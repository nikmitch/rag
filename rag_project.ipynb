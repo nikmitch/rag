{
 "cells": [
  {
   "cell_type": "markdown",
   "metadata": {},
   "source": [
    "# Getting hands-on experience with LLMs\n",
    "\n",
    "It seems like it will plausibly be valuable to be able to run LLMs locally on my laptop, or being able to hook into them for parts of tasks.\n",
    "\n",
    "Here's the rough kind of idea of what I want to learn in this notebook\n",
    "\n",
    "- Learn how to download, install and interact with a LLM (Llama3) hosted locally on my computer, sending it text directly and asking it simple questions\n",
    "- Learn how to interact with ChatGPT via an API, so I can do more automation and use it in coding projects\n",
    "- Understand environments better (through the course of debugging all this stuff) -- added post hoc lol - I screwed up my base conda installation when I was trying to follow one of the videos at the start of this process\n",
    "- Understand embeddings better, and build skills in visualisation to illustrate the distance between different words\n",
    "- Make a basic RAG that can read a larger document and answer basic questions from the text (from a file in .md or .txt format) - following [this video](https://www.youtube.com/watch?v=tcqEUSNCn8I). Try out different embeddings (Ollama embeddings and OpenAI embeddings)\n",
    "- extend to be able to read pdfs or arbitrary filetypes, using [this video](https://www.youtube.com/watch?v=2TJxpyO3ei4) then maybe [this video](https://www.youtube.com/watch?v=svzd5d1LXGk) -- or maybe another one entirely"
   ]
  },
  {
   "cell_type": "markdown",
   "metadata": {
    "vscode": {
     "languageId": "plaintext"
    }
   },
   "source": [
    "I have already downloaded llama3 (the 4GB version - the 40GB version is way way too slow, basically doesn't run). Now I want to see if I can interact with it with the llama package"
   ]
  },
  {
   "cell_type": "code",
   "execution_count": 1,
   "metadata": {},
   "outputs": [],
   "source": [
    "import ollama\n",
    "# note -- extremely bizarre that \"import ollama\" failed\n",
    "# after a successful-looking \"conda install ollama\" and required \n",
    "# me to \"pip install ollama\" in order to work??\n",
    "import os # will need this later"
   ]
  },
  {
   "cell_type": "code",
   "execution_count": 2,
   "metadata": {},
   "outputs": [],
   "source": [
    "# I noticed that llama tends to print really long lines so I need to scroll sideways. I'm not enjoying that, so I'm making\n",
    "# a wrapped print function to fix it\n",
    "\n",
    "import textwrap\n",
    "\n",
    "def wprint(text, width = 120):\n",
    "  wrapped_text = textwrap.fill(text, width=width)\n",
    "  print(wrapped_text)\n",
    "  "
   ]
  },
  {
   "cell_type": "markdown",
   "metadata": {},
   "source": [
    "## Interacting with Llama3 (no embedding)\n",
    "This next part is just me trying to interact with the model directly and feeding it a text file (no embedding etc), to see whether it'll provide sensible responses. "
   ]
  },
  {
   "cell_type": "code",
   "execution_count": 9,
   "metadata": {},
   "outputs": [
    {
     "name": "stdout",
     "output_type": "stream",
     "text": [
      "File loaded successfully\n"
     ]
    }
   ],
   "source": [
    "\n",
    "with open('data/personal/batman_sound_video_essay.txt','r') as file:\n",
    "    data = file.read()\n",
    "\n",
    "\n",
    "#debugging statement to confirm file was loaded\n",
    "if data:\n",
    "    print(\"File loaded successfully\")\n",
    "else:\n",
    "    print(\"Load in a file\")"
   ]
  },
  {
   "cell_type": "code",
   "execution_count": 10,
   "metadata": {},
   "outputs": [
    {
     "name": "stdout",
     "output_type": "stream",
     "text": [
      "<agent_01> Prompt: Why The Batman's Sound is Different - YouTube https://www.youtube.com/watch?v=_AQkQ4a1yJ8\n",
      "Transcript: (00:01) listen to this this otherworldly sound happens to be a justin bieber song slowed down 800 percent\n",
      "and it's this contorted version of the song that was responsible in part for inspiring what would eventually become the\n",
      "sound of the batmobile in the latest batman film [Music] this video is sponsored by curiositystream watch the exclusive\n",
      "companion video on nebula when you sign up for the curiosity stream nebula bundle today watch this clip on mute a truck\n",
      "passes in front of the frame and imagine with me for a moment what sound (00:48) you think will accompany that truck got\n",
      "it okay here it is i must choose my targets carefully instead of a truck we hear a train but there's no visual sign of a\n",
      "train in this shot or any of the shots in close proximity the film establishes trains as part of the setting but when\n",
      "the sound plays we don't see a train the sound of the train passing fades out as the truck passes it's almost as if the\n",
      "truck was making the sound i'm guessing if you've seen the movie you didn't even notice or (01:19) think about this but\n",
      "this small detail reveals something about sound in film and especially how it's used in the batman that i think is\n",
      "fascinating gotham city in the new batman film is soaked in rain i don't think i've seen a film that uses rain this\n",
      "relentlessly since david fincher's seven which this movie is obviously drawing some inspiration from it's impressive the\n",
      "range of effects and moods that the sound team for the batman manages to get out of the sound of the rain this rain\n",
      "hitting the bat signal at the beginning (01:48) almost has a sinister sizzling feel the rain in this scene feels cold\n",
      "icy and almost sleet like the rain in a more intimate setting like this one or this one feels warmer and cozier and in\n",
      "this scene where batman's doing some hard-boiled detective investigating the rain in the background almost sounds like\n",
      "boiling or simmering water if you listen closely the rain has a unique sound in almost every scene or location in the\n",
      "film and the differences in the sounds don't just reflect the fact that rain sounds different in (02:32) different\n",
      "environments they actually design the sound of the rain to reinforce the mood of each scene i've talked before about\n",
      "expressionism and cinematography and similar to how harsh shadows and lighting and even set design can become an\n",
      "external manifestation of a character's internal psychological state sound can express these things as well but the way\n",
      "something sounds isn't the only way you can use sound expressively the mix of the sound its volume and the relative\n",
      "volume of different sound elements in the scene (03:02) can be used in an expressionistic way take this moment [Music]\n",
      "if you were standing in a room and it was raining outside you could hear the rain and as long as it's still raining in\n",
      "the real world the volume of the rain outside isn't going to change but let's turn down the dialogue in this scene and i\n",
      "want you to listen closely to what's happening with the sound of the rain in the background [Music] [Music] here the\n",
      "rain which is a prominent part of the ambient soundscape softens and almost drops away completely for a (03:54) moment\n",
      "to emphasize the tension between batman and selena before coming back in towards the end the mix here is modeling the\n",
      "sound of the film around the subjective experience of the characters in the real world when you're focused in on\n",
      "something you tend not to pay attention to the ambient sounds around you they're still there at a constant volume but\n",
      "you're not actually hearing them right now in whatever environment you're watching this in there are probably all kinds\n",
      "of external sounds that you (04:25) haven't been listening to while you're listening to me but if i draw your attention\n",
      "to them like i'm doing now you probably suddenly become aware of them in our subjective experience of the world what we\n",
      "hear reflects what we're paying attention to so by manipulating the level of certain ambient sounds the sound team is\n",
      "placing you as the viewer inside the character's subjective perspective this kind of subjectivity isn't just created\n",
      "through levels listen to this moment and pay close attention to the (04:54) sound of the camera flashes he's wearing\n",
      "gloves friday july 16th my life has been a cruel riddle i could not solve hear how they become echoey and reverby as\n",
      "gordon reads the riddler's words in this scene we're inside batman's auditory perspective here the sound design isn't\n",
      "replicating a real world effect in how we perceive sound just like we don't actually see in slow motion but sometimes\n",
      "cinematographers use that to create a subjective effect there's a kind of dissociative quality to this kind of (05:29)\n",
      "echoey effect that helps us understand the headspace the characters are in in a film sound's relationship to reality can\n",
      "be very loose instead of crafting a soundscape that is realistic sound designers and engineers have a lot of leeway in a\n",
      "film to design sounds that create the right impression of reality or that reflect a character's subjective experience\n",
      "rather than what the environment or the objects would actually sound like [Music] i'm sure we're all familiar with the\n",
      "idea of score using a motif or theme to (05:59) cue a certain character this film obviously has one for batman that it\n",
      "employs in sometimes strikingly subtle ways like in this moment where it literally only plays the first note of the\n",
      "theme as the words the batman appear on screen we often think of a film soundtrack as coming from a kind of objective\n",
      "perspective where the film itself is telling us what the emotions of the scene are or what's happening but film score\n",
      "can be used subjectively as well in this moment when selena's theme plays as this boot is revealed the film's (06:30)\n",
      "score isn't telling us objectively that it's selena because it turns out not to be the film is telling us that bruce\n",
      "thinks it's selena my favorite soundtrack cue in the film is the riddler's ave maria which is used expertly for this\n",
      "scene the association between the riddler and the song is established earlier in the film and here the fact that the\n",
      "choir sings it before the riddler shows up gives the whole scene a sense of foreboding and suspense but by placing the\n",
      "music in the scene diegetically (07:03) which just means that the sound is actually coming from within the world of the\n",
      "film instead of just one that's part of the omniscient soundtrack it creates a sense of ambiguity that pervades the\n",
      "scene the ambiguity doesn't just come from the song we also hear this sound which sounds like the riddler's signature\n",
      "gasp scream thing but then it ends in a cough so we're not quite sure if it's supposed to actually be the riddler or not\n",
      "which is the entire tension of the scene bruce is paranoid and is seeing the riddler (07:35) everywhere and the film\n",
      "does a great job of helping us enter into that ambiguity and mystery through the sound design one of the interesting\n",
      "auditory tools that this movie uses kind of exists in the space between sound effect and soundtrack listen to this\n",
      "ambient soundscape it's kind of an underwater droning and it crops up pretty much any time riddler is on screen and\n",
      "batman is looking at or listening to him it's not a piece of film score but it's also not really a sound effect it's not\n",
      "motivated (08:12) by any element of the environment but this sound unlike ave maria also isn't a cue for the riddler\n",
      "it's more of a cue for batman's emotional response to the riddler here that underwater ambience comes in right after\n",
      "falcone is shot giving us an early indication that the batman thinks the riddler is responsible and then it shifts to\n",
      "the ave maria theme as that suspicion is confirmed after the riddler is unmasked and the batman has a confrontation with\n",
      "him the next time we see a video of the riddler (08:51) that ambient sound bed is absent hey guys thanks for all the\n",
      "comments and uh because the batman's perspective of the riddler has changed i'm honestly kind of in awe of the extensive\n",
      "work and artistry that goes into the sound design on a film like this it takes entire teams of people an incredible\n",
      "amount of work and a lot of thought goes into crafting every part of how a film like this sounds and a lot of the\n",
      "techniques used aren't even intuitive for example why is this scene so impactful the sound of the club just seems so\n",
      "(09:30) intense and overwhelming well it turns out to make the scene feel the way it does the sound team discovered that\n",
      "they actually needed to make the sound of the punches quieter compare the sound of these hits to these from moments\n",
      "earlier it's a mild difference but in the mix these hits are actually quieter than these here's a modified version of\n",
      "the scene where i brought up the levels of some of these punches it changes the whole feel of the scene when we're\n",
      "watching a film we understand the volume of sounds relative to each (10:05) other so if the punches in this scene are\n",
      "clearly audible the music feels way quieter if we were in the room and the music was really blaring you wouldn't be able\n",
      "to hear these hits another example of this kind of thing is in this scene where we can clearly hear the rain but then\n",
      "moments later once gunfire breaks out the rain falls away into silence listen to this modified version where the sound\n",
      "of the rain remains audible the gunshots actually sound quieter even though i haven't changed their level all (10:44)\n",
      "i've done is leave the rain at the volume it was at moments before the key takeaway here is that almost nothing you hear\n",
      "in a film like this is a reflection of reality the sound is almost entirely impressionistic and expressionist the idea\n",
      "is to create a sound that feels right to the audience not one that would be accurate if closely examined because realism\n",
      "isn't the goal you often can't achieve what you want simply by going out into the world and recording real world sounds\n",
      "the batmobile is a great example of this the sound design (11:28) combines the engine sounds from multiple sources but\n",
      "there's a key ingredient that comes from a curious place that's the sound of a bottle rocket going off supervising sound\n",
      "editor will files liked the sound and wanted to incorporate it into the sound design of the batmobile but it was too\n",
      "short and felt too quick and small it was ultimately the same technique that was used to create this strange ethereal\n",
      "version of this justin bieber song that morphed the bottle rocket sound into the sound of the batmobile (12:02) that's\n",
      "in the film by stretching the same bottle rocket sound out into different lengths and then layering those together viles\n",
      "and his team were able to build the unique rising scream that helps make the batmobile reveal so impactful [Music] and\n",
      "by modifying a real sound instead of trying to generate it synthetically they maintained a physicality and imperfect\n",
      "quality in the sound that's a better fit for the film and the batmobile's grungy dirty aesthetic subjective perspective\n",
      "plays an incredibly important role in the story (12:41) of the batman and i've been talking about how that subjectivity\n",
      "is created through sound but it's also developed in cinematography in a way i think is crucial to the story the movie is\n",
      "trying to tell you can see more about how the film develops and uses visual perspective in the companion video i've made\n",
      "exclusively available on nebula nebula is a streaming platform created by and for independent content creators like\n",
      "myself on nebula you can watch every video from me and a ton of other amazing creators early and without any (13:09) ads\n",
      "or sponsorships but you also get access to a bunch of exclusive nebula content like my video on perspective in batman or\n",
      "my video on the sound design in dune which goes into some of the cool uses of surround sound mixing that i don't talk\n",
      "about in this video and now you can also get an entire bonus episode of my podcast cinema of meaning where tom and i\n",
      "discussed 1917 it's available exclusively on our nebula feed and here's the best thing you can get nebula for less than\n",
      "15 for an entire year when you sign up for the curiosity (13:41) stream plus nebula bundle when you sign up for the\n",
      "bundle using my link not only are you getting all the great nebula content i talked about but you also get access to\n",
      "curiosity stream which is a streaming service with thousands of great educational and documentary titles you can get all\n",
      "of this today for 26 percent off when you sign up by going to curiositystream.  #### From this text, tell me about how\n",
      "the sound of rain is used in the movie\n",
      "<agent_01> Generating a response: \n"
     ]
    }
   ],
   "source": [
    "prompt_01 = f\"{data} #### From this text, tell me about how the sound of rain is used in the movie\"\n",
    "\n",
    "wprint(\"<agent_01> Prompt: \"+prompt_01)\n",
    "\n",
    "print(\"<agent_01> Generating a response: \")\n"
   ]
  },
  {
   "cell_type": "code",
   "execution_count": 6,
   "metadata": {},
   "outputs": [
    {
     "name": "stdout",
     "output_type": "stream",
     "text": [
      "According to the video, the sound of rain is used in a scene where gunfire breaks out. Initially, the rain can be heard\n",
      "clearly, but then it suddenly falls away into silence when the gunshots occur. The narrator suggests that this is an\n",
      "example of how the sound design in the movie is more impressionistic and expressionist than realistic. He also provides\n",
      "a modified version of the scene where the sound of the rain remains audible throughout, which makes the gunshots seem\n",
      "quieter despite not having changed their actual volume. This highlights the subjective perspective of the sound design,\n",
      "aiming to create a specific emotional response rather than accurately representing real-world sounds.\n"
     ]
    }
   ],
   "source": [
    "\n",
    "response = ollama.chat(model = 'llama3',\n",
    "                         messages = [{\n",
    "                           \"role\":\"user\",\n",
    "                        #    \"content\":\"tell me about a cool species of frog\"\n",
    "                        \"content\": prompt_01\n",
    "                       }])\n",
    "\n",
    "wprint(response[\"message\"][\"content\"])\n",
    "# print(response)\n",
    "# print(response[\"message\"])"
   ]
  },
  {
   "cell_type": "markdown",
   "metadata": {},
   "source": [
    "The above feels like a pretty great answer actually."
   ]
  },
  {
   "cell_type": "markdown",
   "metadata": {},
   "source": [
    "### Function-ising and further checks\n",
    "\n",
    "I want this to be a bit more re-usable within a function, where I can just specify the data to read from, and the question I want it to answer."
   ]
  },
  {
   "cell_type": "code",
   "execution_count": 11,
   "metadata": {},
   "outputs": [],
   "source": [
    "def llama_read_and_respond(input_file, question, print_prompt_with_data = False):\n",
    "    with open(input_file,'r') as file:\n",
    "        data = file.read()\n",
    "\n",
    "\n",
    "    #debugging statement to confirm file was loaded\n",
    "    if data:\n",
    "        print(\"File loaded successfully\")\n",
    "    else:\n",
    "        print(\"Load in a file\")\n",
    "\n",
    "\n",
    "    prompt_01 = f\"{data} #### From this text, {question}\"\n",
    "\n",
    "    if print_prompt_with_data:\n",
    "        wprint(\"Prompt: \"+prompt_01)\n",
    "\n",
    "    print(\"Generating a response: \")\n",
    "\n",
    "\n",
    "\n",
    "    response = ollama.chat(model = 'llama3',\n",
    "                            messages = [{\n",
    "                            \"role\":\"user\",\n",
    "                            #    \"content\":\"tell me about a cool species of frog\"\n",
    "                            \"content\": prompt_01\n",
    "                        }])\n",
    "\n",
    "    wprint(response[\"message\"][\"content\"])\n",
    "\n"
   ]
  },
  {
   "cell_type": "code",
   "execution_count": 12,
   "metadata": {},
   "outputs": [
    {
     "name": "stdout",
     "output_type": "stream",
     "text": [
      "File loaded successfully\n",
      "Generating a response: \n"
     ]
    },
    {
     "name": "stdout",
     "output_type": "stream",
     "text": [
      "According to the video, in one scene where gunfire breaks out, the sound of rain suddenly falls away into silence. The\n",
      "narrator then provides a modified version of the scene where the sound of rain remains audible, and the gunshots\n",
      "actually sound quieter. This demonstrates how the filmmakers used the sound design to create an impressionistic and\n",
      "expressionist effect, rather than aiming for realism. The goal is not to accurately represent the sounds of reality but\n",
      "to create a certain atmosphere or mood that enhances the storytelling.\n"
     ]
    }
   ],
   "source": [
    "llama_read_and_respond(input_file='data/personal/batman_sound_video_essay.txt', \n",
    "                       question = 'tell me about how the sound of rain is used in the movie')\n"
   ]
  },
  {
   "cell_type": "code",
   "execution_count": 13,
   "metadata": {},
   "outputs": [
    {
     "name": "stdout",
     "output_type": "stream",
     "text": [
      "File loaded successfully\n",
      "Generating a response: \n"
     ]
    },
    {
     "name": "stdout",
     "output_type": "stream",
     "text": [
      "According to the text, Nebula, a streaming platform created by and for independent content creators like the speaker, is\n",
      "sponsoring the video.\n"
     ]
    }
   ],
   "source": [
    "llama_read_and_respond(input_file='data/personal/batman_sound_video_essay.txt', \n",
    "                       question = 'who sponsored the video?')"
   ]
  },
  {
   "cell_type": "markdown",
   "metadata": {},
   "source": [
    "Ok, this seems to be working. Now I'd like it to try reading something from my CV, because previously it seemed to be struggling with that. I've just changed the extension from a .tex file to .txt, and I want to see if it can answer basic questions (e.g. about dates of employment). This might be harder for it to do because it's still got all of these latex formatting things in there"
   ]
  },
  {
   "cell_type": "code",
   "execution_count": 14,
   "metadata": {},
   "outputs": [
    {
     "name": "stdout",
     "output_type": "stream",
     "text": [
      "File loaded successfully\n",
      "Generating a response: \n"
     ]
    },
    {
     "name": "stdout",
     "output_type": "stream",
     "text": [
      "The most recent job listed is:  **NZ Royal Commission Inquiry - COVID-19 Lessons Learned**  As a **Principal Data\n",
      "Analyst**, from May 2024 to July 2024, you:  * Created high-quality visualisations to support the Inquiry * Conducted\n",
      "analyses and created visualisations to highlight the disparate impact of COVID-19 on Māori and Pacific ethnic groups and\n",
      "people living in areas of higher socioeconomic deprivation * Worked closely with the Chair of the Commission to discuss\n",
      "how to tell the story of the COVID pandemic through the above visualisations in a way that draws out lessons for future\n",
      "pandemics.\n"
     ]
    }
   ],
   "source": [
    "llama_read_and_respond(input_file='data/personal/Nik_Mitchell_CV_2024_07_21.txt', \n",
    "                       question = 'what is the most recent job on that list, and what did I do in that job?')"
   ]
  },
  {
   "cell_type": "markdown",
   "metadata": {},
   "source": [
    "Interesting, this is the correct answer, and way better than what I got when I tried to just run ollama in the terminal. But also, it seems to really directly copy-paste exactly what I wrote in my bullet points here (possibly because it was in bullet point form?). Next, asking it to be more concise & summarise a bit."
   ]
  },
  {
   "cell_type": "code",
   "execution_count": 15,
   "metadata": {},
   "outputs": [
    {
     "name": "stdout",
     "output_type": "stream",
     "text": [
      "File loaded successfully\n",
      "Generating a response: \n",
      "The most recent job listed is \"Principal Data Analyst\" at NZ Royal Commission Inquiry - COVID-19 Lessons Learned (May\n",
      "2024 - July 2024). As a Principal Data Analyst, my responsibilities included:  * Creating high-quality visualizations to\n",
      "support the inquiry * Conducting analyses and creating visualizations to highlight pandemic trends and disparities in\n",
      "impact on Māori and Pacific ethnic groups and people living in areas of higher socioeconomic deprivation * Working\n",
      "closely with the Chair of the Commission to discuss how to tell the story of the COVID-19 pandemic through\n",
      "visualizations\n"
     ]
    }
   ],
   "source": [
    "llama_read_and_respond(input_file='data/personal/Nik_Mitchell_CV_2024_07_21.txt', \n",
    "                       question = 'what is the most recent job on that list, and what did I do in that job? Please be concise and summarise the responsibilities rather than copying the whole description')"
   ]
  },
  {
   "cell_type": "markdown",
   "metadata": {},
   "source": [
    "That seemed to work. I'm still curious about this bullet point thing though.\n",
    "\n",
    "#### Bullet point formatting investigation\n",
    "\n",
    "I have a hypothesis that this being in bullet points convinced llama to repeat it more exactly. I have a subquestion in here about whether it's specifically all the tex formatting or whether bullet points in normal text would have the same effect. \n",
    "\n",
    "To investigate this, I'm going to present llama3 with three different versions of that one section of my CV\n",
    "- One with all the latex formatting (baseline)\n",
    "- One with latex formatting removed, but in bullet point format still\n",
    "- One where I've rewritten the information in sentence format\n",
    "\n",
    "and see whether they have different summaries."
   ]
  },
  {
   "cell_type": "code",
   "execution_count": 16,
   "metadata": {},
   "outputs": [
    {
     "name": "stdout",
     "output_type": "stream",
     "text": [
      "File loaded successfully\n",
      "Prompt: \\subsection*{Experience}  \\begin{itemize}   \\parskip=0.1em        \\item   %  \\headerrow   {\\textbf{NZ Royal\n",
      "Commission Inquiry - COVID-19 Lessons Learned}}   %  {\\textbf{Wellington, NZ}}   \\\\   \\headerrow   {\\emph{Principal Data\n",
      "Analyst}}   {\\emph{May 2024 -- July 2024}}   {\\emph{Created high-quality visualisations to support the Inquiry}}\n",
      "\\begin{itemize*}         \\item Created visualisations that contextualised pandemic trends (COVID-19 cases,\n",
      "hospitalisations, deaths and vaccinations) in New Zealand against policy decisions (e.g. lockdowns, border closing) and\n",
      "pandemic trends in other countries         \\item Also conducted analyses and created visualisations to highlight the\n",
      "disparate impact of COVID-19 on M\\a=aori and Pacific ethnic groups and people living in areas of higher socioeconomic\n",
      "deprivation         \\item Worked closely with the Chair of the Commission to discuss how to tell the story of the COVID\n",
      "pandemic through the above visualisations in a way that draws out lessons for future pandemics\n",
      "\\end{itemize*}     #### From this text, what is the title of the job on that list, and what did I do in that job?\n",
      "Generating a response: \n"
     ]
    },
    {
     "name": "stdout",
     "output_type": "stream",
     "text": [
      "The title of the job is: **Principal Data Analyst**  As a Principal Data Analyst, you:  * Created high-quality\n",
      "visualisations to support the Inquiry * Conducted analyses and created visualisations to:         + Contextualise\n",
      "pandemic trends (COVID-19 cases, hospitalisations, deaths, and vaccinations) in New Zealand against policy decisions and\n",
      "pandemic trends in other countries.         + Highlight the disparate impact of COVID-19 on Māori and Pacific ethnic\n",
      "groups and people living in areas of higher socioeconomic deprivation. * Worked closely with the Chair of the Commission\n",
      "to discuss how to tell the story of the COVID pandemic through visualisations, drawing out lessons for future pandemics.\n"
     ]
    }
   ],
   "source": [
    "# TeX formatting only\n",
    "llama_read_and_respond(input_file='data/personal/Nik_Mitchell_CV_principal_only_tex_formatting.txt', \n",
    "                       question = 'what is the title of the job on that list, and what did I do in that job?',\n",
    "                       print_prompt_with_data = True)"
   ]
  },
  {
   "cell_type": "code",
   "execution_count": 17,
   "metadata": {},
   "outputs": [
    {
     "name": "stdout",
     "output_type": "stream",
     "text": [
      "File loaded successfully\n",
      "Prompt: Experience  NZ Royal Commission Inquiry - COVID-19 Lessons Learned (Wellington, NZ)  Principal Data Analyst (May\n",
      "2024 -- July 2024) - Created high-quality visualisations to support the Inquiry   - Created visualisations that\n",
      "contextualised pandemic trends (COVID-19 cases, hospitalisations, deaths and vaccinations) in New Zealand against policy\n",
      "decisions (e.g. lockdowns, border closing) and pandemic trends in other countries   - Also conducted analyses and\n",
      "created visualisations to highlight the disparate impact of COVID-19 on M\\a=aori and Pacific ethnic groups and people\n",
      "living in areas of higher socioeconomic deprivation   - Worked closely with the Chair of the Commission to discuss how\n",
      "to tell the story of the COVID pandemic through the above visualisations in a way that draws out lessons for future\n",
      "pandemics #### From this text, what is the title of the job on that list, and what did I do in that job?\n",
      "Generating a response: \n"
     ]
    },
    {
     "name": "stdout",
     "output_type": "stream",
     "text": [
      "The title of the job is \"Principal Data Analyst\", and according to the text, your responsibilities included:  * Creating\n",
      "high-quality visualisations to support the NZ Royal Commission Inquiry * Contextualising pandemic trends (COVID-19\n",
      "cases, hospitalisations, deaths, and vaccinations) against policy decisions and pandemic trends in other countries *\n",
      "Conducting analyses and creating visualisations to highlight the disparate impact of COVID-19 on Māori and Pacific\n",
      "ethnic groups and people living in areas of higher socioeconomic deprivation * Working closely with the Chair of the\n",
      "Commission to discuss how to tell the story of the COVID pandemic through these visualisations, drawing out lessons for\n",
      "future pandemics.\n"
     ]
    }
   ],
   "source": [
    "# bullets but not in tex only\n",
    "llama_read_and_respond(input_file='data/personal/Nik_Mitchell_CV_principal_only_bullets.txt', \n",
    "                       question = 'what is the title of the job on that list, and what did I do in that job?',\n",
    "                       print_prompt_with_data = True)"
   ]
  },
  {
   "cell_type": "code",
   "execution_count": 18,
   "metadata": {},
   "outputs": [
    {
     "ename": "FileNotFoundError",
     "evalue": "[Errno 2] No such file or directory: 'data/personal/personalNik_Mitchell_CV_principal_only_text.txt'",
     "output_type": "error",
     "traceback": [
      "\u001b[0;31m---------------------------------------------------------------------------\u001b[0m",
      "\u001b[0;31mFileNotFoundError\u001b[0m                         Traceback (most recent call last)",
      "Cell \u001b[0;32mIn[18], line 2\u001b[0m\n\u001b[1;32m      1\u001b[0m \u001b[38;5;66;03m# bullets but not in tex only\u001b[39;00m\n\u001b[0;32m----> 2\u001b[0m \u001b[43mllama_read_and_respond\u001b[49m\u001b[43m(\u001b[49m\u001b[43minput_file\u001b[49m\u001b[38;5;241;43m=\u001b[39;49m\u001b[38;5;124;43m'\u001b[39;49m\u001b[38;5;124;43mdata/personal/personalNik_Mitchell_CV_principal_only_text.txt\u001b[39;49m\u001b[38;5;124;43m'\u001b[39;49m\u001b[43m,\u001b[49m\u001b[43m \u001b[49m\n\u001b[1;32m      3\u001b[0m \u001b[43m                       \u001b[49m\u001b[43mquestion\u001b[49m\u001b[43m \u001b[49m\u001b[38;5;241;43m=\u001b[39;49m\u001b[43m \u001b[49m\u001b[38;5;124;43m'\u001b[39;49m\u001b[38;5;124;43mwhat is the title of the job on that list, and what did I do in that job?\u001b[39;49m\u001b[38;5;124;43m'\u001b[39;49m\u001b[43m,\u001b[49m\n\u001b[1;32m      4\u001b[0m \u001b[43m                       \u001b[49m\u001b[43mprint_prompt_with_data\u001b[49m\u001b[43m \u001b[49m\u001b[38;5;241;43m=\u001b[39;49m\u001b[43m \u001b[49m\u001b[38;5;28;43;01mTrue\u001b[39;49;00m\u001b[43m)\u001b[49m\n",
      "Cell \u001b[0;32mIn[11], line 2\u001b[0m, in \u001b[0;36mllama_read_and_respond\u001b[0;34m(input_file, question, print_prompt_with_data)\u001b[0m\n\u001b[1;32m      1\u001b[0m \u001b[38;5;28;01mdef\u001b[39;00m \u001b[38;5;21mllama_read_and_respond\u001b[39m(input_file, question, print_prompt_with_data \u001b[38;5;241m=\u001b[39m \u001b[38;5;28;01mFalse\u001b[39;00m):\n\u001b[0;32m----> 2\u001b[0m     \u001b[38;5;28;01mwith\u001b[39;00m \u001b[38;5;28;43mopen\u001b[39;49m\u001b[43m(\u001b[49m\u001b[43minput_file\u001b[49m\u001b[43m,\u001b[49m\u001b[38;5;124;43m'\u001b[39;49m\u001b[38;5;124;43mr\u001b[39;49m\u001b[38;5;124;43m'\u001b[39;49m\u001b[43m)\u001b[49m \u001b[38;5;28;01mas\u001b[39;00m file:\n\u001b[1;32m      3\u001b[0m         data \u001b[38;5;241m=\u001b[39m file\u001b[38;5;241m.\u001b[39mread()\n\u001b[1;32m      6\u001b[0m     \u001b[38;5;66;03m#debugging statement to confirm file was loaded\u001b[39;00m\n",
      "File \u001b[0;32m~/miniconda3/envs/rag/lib/python3.12/site-packages/IPython/core/interactiveshell.py:324\u001b[0m, in \u001b[0;36m_modified_open\u001b[0;34m(file, *args, **kwargs)\u001b[0m\n\u001b[1;32m    317\u001b[0m \u001b[38;5;28;01mif\u001b[39;00m file \u001b[38;5;129;01min\u001b[39;00m {\u001b[38;5;241m0\u001b[39m, \u001b[38;5;241m1\u001b[39m, \u001b[38;5;241m2\u001b[39m}:\n\u001b[1;32m    318\u001b[0m     \u001b[38;5;28;01mraise\u001b[39;00m \u001b[38;5;167;01mValueError\u001b[39;00m(\n\u001b[1;32m    319\u001b[0m         \u001b[38;5;124mf\u001b[39m\u001b[38;5;124m\"\u001b[39m\u001b[38;5;124mIPython won\u001b[39m\u001b[38;5;124m'\u001b[39m\u001b[38;5;124mt let you open fd=\u001b[39m\u001b[38;5;132;01m{\u001b[39;00mfile\u001b[38;5;132;01m}\u001b[39;00m\u001b[38;5;124m by default \u001b[39m\u001b[38;5;124m\"\u001b[39m\n\u001b[1;32m    320\u001b[0m         \u001b[38;5;124m\"\u001b[39m\u001b[38;5;124mas it is likely to crash IPython. If you know what you are doing, \u001b[39m\u001b[38;5;124m\"\u001b[39m\n\u001b[1;32m    321\u001b[0m         \u001b[38;5;124m\"\u001b[39m\u001b[38;5;124myou can use builtins\u001b[39m\u001b[38;5;124m'\u001b[39m\u001b[38;5;124m open.\u001b[39m\u001b[38;5;124m\"\u001b[39m\n\u001b[1;32m    322\u001b[0m     )\n\u001b[0;32m--> 324\u001b[0m \u001b[38;5;28;01mreturn\u001b[39;00m \u001b[43mio_open\u001b[49m\u001b[43m(\u001b[49m\u001b[43mfile\u001b[49m\u001b[43m,\u001b[49m\u001b[43m \u001b[49m\u001b[38;5;241;43m*\u001b[39;49m\u001b[43margs\u001b[49m\u001b[43m,\u001b[49m\u001b[43m \u001b[49m\u001b[38;5;241;43m*\u001b[39;49m\u001b[38;5;241;43m*\u001b[39;49m\u001b[43mkwargs\u001b[49m\u001b[43m)\u001b[49m\n",
      "\u001b[0;31mFileNotFoundError\u001b[0m: [Errno 2] No such file or directory: 'data/personal/personalNik_Mitchell_CV_principal_only_text.txt'"
     ]
    }
   ],
   "source": [
    "# bullets but not in tex only\n",
    "llama_read_and_respond(input_file='data/personal/personalNik_Mitchell_CV_principal_only_text.txt', \n",
    "                       question = 'what is the title of the job on that list, and what did I do in that job?',\n",
    "                       print_prompt_with_data = True)"
   ]
  },
  {
   "cell_type": "markdown",
   "metadata": {},
   "source": [
    "Hypothesis seems to be falsified by this (bullets-only gave an answer with a bit of a summary at the end, whereas tex formatting and text-only versions stuck to the text)"
   ]
  },
  {
   "cell_type": "markdown",
   "metadata": {},
   "source": [
    "# RAG (Retrieval-Augmented Generator)\n",
    "\n",
    "Why would we want to create a RAG? The above seemed to work just fine.\n",
    "\n",
    "I have a suspicion that the issue here is to do with context windows. When making a RAG, we're first going to create a database by chunking up all the inputs into manageable-sized pieces (with overlap between chunks) and then using particular embeddings to encode the meaning of the chunks as vectors. Once we have that, we can use the same embeddings on the input question, and then retrieve the top few chunks that have the most similar meaning vectors (e.g. smallest euclidean distance apart) and use this subset of data to construct the answer from.\n",
    "\n",
    "I suspect that the reason for creating a RAG is this is a context window limitation. The LLM needs to know which information to focus on, so having a method for retrieving the most relevant data allows it to work much more efficiently with a large amount of data."
   ]
  },
  {
   "cell_type": "markdown",
   "metadata": {},
   "source": [
    "Now working through [this video](https://www.youtube.com/watch?v=tcqEUSNCn8I)(about how to make a RAG) - will use OpenAI embeddings here rather than Llama.\n",
    "\n",
    "Has an associated [git repo](https://github.com/pixegami/langchain-rag-tutorial) - might clone this.\n",
    "\n",
    "I've grabbed a version of the Wizard of Oz from the Gutenberg Project website [link](https://www.gutenberg.org/ebooks/55)\n",
    "\n",
    "### Creating the database (based on create_database.py)\n",
    "\n",
    "First loading in a bunch of packages I'll need\n"
   ]
  },
  {
   "cell_type": "code",
   "execution_count": 3,
   "metadata": {},
   "outputs": [
    {
     "name": "stdout",
     "output_type": "stream",
     "text": [
      "Intel MKL WARNING: Support of Intel(R) Streaming SIMD Extensions 4.2 (Intel(R) SSE4.2) enabled only processors has been deprecated. Intel oneAPI Math Kernel Library 2025.0 will require Intel(R) Advanced Vector Extensions (Intel(R) AVX) instructions.\n",
      "Intel MKL WARNING: Support of Intel(R) Streaming SIMD Extensions 4.2 (Intel(R) SSE4.2) enabled only processors has been deprecated. Intel oneAPI Math Kernel Library 2025.0 will require Intel(R) Advanced Vector Extensions (Intel(R) AVX) instructions.\n"
     ]
    }
   ],
   "source": [
    "from langchain_community.document_loaders import DirectoryLoader\n",
    "from langchain.text_splitter import RecursiveCharacterTextSplitter\n",
    "from langchain.schema import Document\n",
    "# from langchain.embeddings import OpenAIEmbeddings\n",
    "from langchain_openai import OpenAIEmbeddings\n",
    "from langchain_community.vectorstores import Chroma\n",
    "import openai \n",
    "# from dotenv import load_dotenv\n",
    "import os\n",
    "import shutil\n",
    "\n",
    "# Load environment variables. Assumes that project contains .env file with API keys\n",
    "# load_dotenv()\n",
    "#---- Set OpenAI API key \n",
    "# Change environment variable name from \"OPENAI_API_KEY\" to the name given in \n",
    "# your .env file.\n",
    "openai.api_key = os.environ['OPENAI_API_KEY']\n",
    "\n",
    "CHROMA_PATH = \"chroma\"\n",
    "DATA_PATH = \"data/wizard_of_oz\"\n"
   ]
  },
  {
   "cell_type": "markdown",
   "metadata": {},
   "source": [
    "Next going to define some functions to use to load the data, split it into chunks, and then turn it into a Chroma database"
   ]
  },
  {
   "cell_type": "code",
   "execution_count": 4,
   "metadata": {},
   "outputs": [],
   "source": [
    "\n",
    "def load_documents():\n",
    "    loader = DirectoryLoader(DATA_PATH, glob=\"*.md\")\n",
    "    documents = loader.load()\n",
    "    return documents\n",
    "\n",
    "\n",
    "def split_text(documents: list[Document]):\n",
    "    text_splitter = RecursiveCharacterTextSplitter(\n",
    "        chunk_size=300,\n",
    "        chunk_overlap=100,\n",
    "        length_function=len,\n",
    "        add_start_index=True,\n",
    "    )\n",
    "    chunks = text_splitter.split_documents(documents)\n",
    "    print(f\"Split {len(documents)} documents into {len(chunks)} chunks.\")\n",
    "\n",
    "    document = chunks[10]\n",
    "    print(document.page_content)\n",
    "    print(document.metadata)\n",
    "\n",
    "    return chunks\n",
    "\n",
    "\n",
    "def save_to_chroma(chunks: list[Document]):\n",
    "    # Clear out the database first.\n",
    "    if os.path.exists(CHROMA_PATH):\n",
    "        shutil.rmtree(CHROMA_PATH)\n",
    "\n",
    "    # Create a new DB from the documents.\n",
    "    db = Chroma.from_documents(\n",
    "        chunks, OpenAIEmbeddings(), persist_directory=CHROMA_PATH\n",
    "    )\n",
    "    db.persist()\n",
    "    print(f\"Saved {len(chunks)} chunks to {CHROMA_PATH}.\")\n"
   ]
  },
  {
   "cell_type": "markdown",
   "metadata": {},
   "source": [
    "Running the functions to create the database"
   ]
  },
  {
   "cell_type": "code",
   "execution_count": null,
   "metadata": {},
   "outputs": [],
   "source": [
    "documents = load_documents()"
   ]
  },
  {
   "cell_type": "code",
   "execution_count": null,
   "metadata": {},
   "outputs": [
    {
     "name": "stdout",
     "output_type": "stream",
     "text": [
      "Split 1 documents into 1127 chunks.\n",
      "Introduction\n",
      "{'source': 'data/wizard_of_oz/wizard_of_oz.md', 'start_index': 1870}\n"
     ]
    }
   ],
   "source": [
    "chunks = split_text(documents)"
   ]
  },
  {
   "cell_type": "code",
   "execution_count": null,
   "metadata": {},
   "outputs": [
    {
     "name": "stdout",
     "output_type": "stream",
     "text": [
      "Saved 1127 chunks to chroma.\n"
     ]
    }
   ],
   "source": [
    "save_to_chroma(chunks)"
   ]
  },
  {
   "cell_type": "code",
   "execution_count": 5,
   "metadata": {},
   "outputs": [
    {
     "name": "stdout",
     "output_type": "stream",
     "text": [
      "Split 1 documents into 1127 chunks.\n",
      "Introduction\n",
      "{'source': 'data/wizard_of_oz/wizard_of_oz.md', 'start_index': 1870}\n"
     ]
    },
    {
     "ename": "ValueError",
     "evalue": "Error raised by inference API HTTP code: 500, {\"error\":\"error loading model /Users/nikmitchell/.ollama/models/blobs/sha256:970aa74c0a90ef7482477cf803618e776e173c007bf957f635f1015bfcfe\"}",
     "output_type": "error",
     "traceback": [
      "\u001b[0;31m---------------------------------------------------------------------------\u001b[0m",
      "\u001b[0;31mValueError\u001b[0m                                Traceback (most recent call last)",
      "Cell \u001b[0;32mIn[5], line 62\u001b[0m\n\u001b[1;32m     58\u001b[0m     db\u001b[38;5;241m.\u001b[39mpersist()\n\u001b[1;32m     59\u001b[0m     \u001b[38;5;28mprint\u001b[39m(\u001b[38;5;124mf\u001b[39m\u001b[38;5;124m\"\u001b[39m\u001b[38;5;124mSaved \u001b[39m\u001b[38;5;132;01m{\u001b[39;00m\u001b[38;5;28mlen\u001b[39m(chunks)\u001b[38;5;132;01m}\u001b[39;00m\u001b[38;5;124m chunks to \u001b[39m\u001b[38;5;132;01m{\u001b[39;00mCHROMA_PATH\u001b[38;5;132;01m}\u001b[39;00m\u001b[38;5;124m.\u001b[39m\u001b[38;5;124m\"\u001b[39m)\n\u001b[0;32m---> 62\u001b[0m \u001b[43mgenerate_data_store\u001b[49m\u001b[43m(\u001b[49m\u001b[43m)\u001b[49m\n",
      "Cell \u001b[0;32mIn[5], line 23\u001b[0m, in \u001b[0;36mgenerate_data_store\u001b[0;34m()\u001b[0m\n\u001b[1;32m     21\u001b[0m documents \u001b[38;5;241m=\u001b[39m load_documents()\n\u001b[1;32m     22\u001b[0m chunks \u001b[38;5;241m=\u001b[39m split_text(documents)\n\u001b[0;32m---> 23\u001b[0m \u001b[43msave_to_chroma\u001b[49m\u001b[43m(\u001b[49m\u001b[43mchunks\u001b[49m\u001b[43m)\u001b[49m\n",
      "Cell \u001b[0;32mIn[5], line 55\u001b[0m, in \u001b[0;36msave_to_chroma\u001b[0;34m(chunks)\u001b[0m\n\u001b[1;32m     52\u001b[0m     shutil\u001b[38;5;241m.\u001b[39mrmtree(CHROMA_PATH)\n\u001b[1;32m     54\u001b[0m \u001b[38;5;66;03m# Create a new DB from the documents.\u001b[39;00m\n\u001b[0;32m---> 55\u001b[0m db \u001b[38;5;241m=\u001b[39m \u001b[43mChroma\u001b[49m\u001b[38;5;241;43m.\u001b[39;49m\u001b[43mfrom_documents\u001b[49m\u001b[43m(\u001b[49m\n\u001b[1;32m     56\u001b[0m \u001b[43m    \u001b[49m\u001b[43mchunks\u001b[49m\u001b[43m,\u001b[49m\u001b[43m \u001b[49m\u001b[43mOllamaEmbeddings\u001b[49m\u001b[43m(\u001b[49m\u001b[43mmodel\u001b[49m\u001b[38;5;241;43m=\u001b[39;49m\u001b[38;5;124;43m\"\u001b[39;49m\u001b[38;5;124;43mnomic-embed-text\u001b[39;49m\u001b[38;5;124;43m\"\u001b[39;49m\u001b[43m)\u001b[49m\u001b[43m,\u001b[49m\u001b[43m \u001b[49m\u001b[43mpersist_directory\u001b[49m\u001b[38;5;241;43m=\u001b[39;49m\u001b[43mCHROMA_PATH\u001b[49m\n\u001b[1;32m     57\u001b[0m \u001b[43m\u001b[49m\u001b[43m)\u001b[49m\n\u001b[1;32m     58\u001b[0m db\u001b[38;5;241m.\u001b[39mpersist()\n\u001b[1;32m     59\u001b[0m \u001b[38;5;28mprint\u001b[39m(\u001b[38;5;124mf\u001b[39m\u001b[38;5;124m\"\u001b[39m\u001b[38;5;124mSaved \u001b[39m\u001b[38;5;132;01m{\u001b[39;00m\u001b[38;5;28mlen\u001b[39m(chunks)\u001b[38;5;132;01m}\u001b[39;00m\u001b[38;5;124m chunks to \u001b[39m\u001b[38;5;132;01m{\u001b[39;00mCHROMA_PATH\u001b[38;5;132;01m}\u001b[39;00m\u001b[38;5;124m.\u001b[39m\u001b[38;5;124m\"\u001b[39m)\n",
      "File \u001b[0;32m~/miniconda3/envs/rag/lib/python3.12/site-packages/langchain_community/vectorstores/chroma.py:790\u001b[0m, in \u001b[0;36mChroma.from_documents\u001b[0;34m(cls, documents, embedding, ids, collection_name, persist_directory, client_settings, client, collection_metadata, **kwargs)\u001b[0m\n\u001b[1;32m    788\u001b[0m texts \u001b[38;5;241m=\u001b[39m [doc\u001b[38;5;241m.\u001b[39mpage_content \u001b[38;5;28;01mfor\u001b[39;00m doc \u001b[38;5;129;01min\u001b[39;00m documents]\n\u001b[1;32m    789\u001b[0m metadatas \u001b[38;5;241m=\u001b[39m [doc\u001b[38;5;241m.\u001b[39mmetadata \u001b[38;5;28;01mfor\u001b[39;00m doc \u001b[38;5;129;01min\u001b[39;00m documents]\n\u001b[0;32m--> 790\u001b[0m \u001b[38;5;28;01mreturn\u001b[39;00m \u001b[38;5;28;43mcls\u001b[39;49m\u001b[38;5;241;43m.\u001b[39;49m\u001b[43mfrom_texts\u001b[49m\u001b[43m(\u001b[49m\n\u001b[1;32m    791\u001b[0m \u001b[43m    \u001b[49m\u001b[43mtexts\u001b[49m\u001b[38;5;241;43m=\u001b[39;49m\u001b[43mtexts\u001b[49m\u001b[43m,\u001b[49m\n\u001b[1;32m    792\u001b[0m \u001b[43m    \u001b[49m\u001b[43membedding\u001b[49m\u001b[38;5;241;43m=\u001b[39;49m\u001b[43membedding\u001b[49m\u001b[43m,\u001b[49m\n\u001b[1;32m    793\u001b[0m \u001b[43m    \u001b[49m\u001b[43mmetadatas\u001b[49m\u001b[38;5;241;43m=\u001b[39;49m\u001b[43mmetadatas\u001b[49m\u001b[43m,\u001b[49m\n\u001b[1;32m    794\u001b[0m \u001b[43m    \u001b[49m\u001b[43mids\u001b[49m\u001b[38;5;241;43m=\u001b[39;49m\u001b[43mids\u001b[49m\u001b[43m,\u001b[49m\n\u001b[1;32m    795\u001b[0m \u001b[43m    \u001b[49m\u001b[43mcollection_name\u001b[49m\u001b[38;5;241;43m=\u001b[39;49m\u001b[43mcollection_name\u001b[49m\u001b[43m,\u001b[49m\n\u001b[1;32m    796\u001b[0m \u001b[43m    \u001b[49m\u001b[43mpersist_directory\u001b[49m\u001b[38;5;241;43m=\u001b[39;49m\u001b[43mpersist_directory\u001b[49m\u001b[43m,\u001b[49m\n\u001b[1;32m    797\u001b[0m \u001b[43m    \u001b[49m\u001b[43mclient_settings\u001b[49m\u001b[38;5;241;43m=\u001b[39;49m\u001b[43mclient_settings\u001b[49m\u001b[43m,\u001b[49m\n\u001b[1;32m    798\u001b[0m \u001b[43m    \u001b[49m\u001b[43mclient\u001b[49m\u001b[38;5;241;43m=\u001b[39;49m\u001b[43mclient\u001b[49m\u001b[43m,\u001b[49m\n\u001b[1;32m    799\u001b[0m \u001b[43m    \u001b[49m\u001b[43mcollection_metadata\u001b[49m\u001b[38;5;241;43m=\u001b[39;49m\u001b[43mcollection_metadata\u001b[49m\u001b[43m,\u001b[49m\n\u001b[1;32m    800\u001b[0m \u001b[43m    \u001b[49m\u001b[38;5;241;43m*\u001b[39;49m\u001b[38;5;241;43m*\u001b[39;49m\u001b[43mkwargs\u001b[49m\u001b[43m,\u001b[49m\n\u001b[1;32m    801\u001b[0m \u001b[43m\u001b[49m\u001b[43m)\u001b[49m\n",
      "File \u001b[0;32m~/miniconda3/envs/rag/lib/python3.12/site-packages/langchain_community/vectorstores/chroma.py:748\u001b[0m, in \u001b[0;36mChroma.from_texts\u001b[0;34m(cls, texts, embedding, metadatas, ids, collection_name, persist_directory, client_settings, client, collection_metadata, **kwargs)\u001b[0m\n\u001b[1;32m    740\u001b[0m     \u001b[38;5;28;01mfrom\u001b[39;00m \u001b[38;5;21;01mchromadb\u001b[39;00m\u001b[38;5;21;01m.\u001b[39;00m\u001b[38;5;21;01mutils\u001b[39;00m\u001b[38;5;21;01m.\u001b[39;00m\u001b[38;5;21;01mbatch_utils\u001b[39;00m \u001b[38;5;28;01mimport\u001b[39;00m create_batches\n\u001b[1;32m    742\u001b[0m     \u001b[38;5;28;01mfor\u001b[39;00m batch \u001b[38;5;129;01min\u001b[39;00m create_batches(\n\u001b[1;32m    743\u001b[0m         api\u001b[38;5;241m=\u001b[39mchroma_collection\u001b[38;5;241m.\u001b[39m_client,\n\u001b[1;32m    744\u001b[0m         ids\u001b[38;5;241m=\u001b[39mids,\n\u001b[1;32m    745\u001b[0m         metadatas\u001b[38;5;241m=\u001b[39mmetadatas,\n\u001b[1;32m    746\u001b[0m         documents\u001b[38;5;241m=\u001b[39mtexts,\n\u001b[1;32m    747\u001b[0m     ):\n\u001b[0;32m--> 748\u001b[0m         \u001b[43mchroma_collection\u001b[49m\u001b[38;5;241;43m.\u001b[39;49m\u001b[43madd_texts\u001b[49m\u001b[43m(\u001b[49m\n\u001b[1;32m    749\u001b[0m \u001b[43m            \u001b[49m\u001b[43mtexts\u001b[49m\u001b[38;5;241;43m=\u001b[39;49m\u001b[43mbatch\u001b[49m\u001b[43m[\u001b[49m\u001b[38;5;241;43m3\u001b[39;49m\u001b[43m]\u001b[49m\u001b[43m \u001b[49m\u001b[38;5;28;43;01mif\u001b[39;49;00m\u001b[43m \u001b[49m\u001b[43mbatch\u001b[49m\u001b[43m[\u001b[49m\u001b[38;5;241;43m3\u001b[39;49m\u001b[43m]\u001b[49m\u001b[43m \u001b[49m\u001b[38;5;28;43;01melse\u001b[39;49;00m\u001b[43m \u001b[49m\u001b[43m[\u001b[49m\u001b[43m]\u001b[49m\u001b[43m,\u001b[49m\n\u001b[1;32m    750\u001b[0m \u001b[43m            \u001b[49m\u001b[43mmetadatas\u001b[49m\u001b[38;5;241;43m=\u001b[39;49m\u001b[43mbatch\u001b[49m\u001b[43m[\u001b[49m\u001b[38;5;241;43m2\u001b[39;49m\u001b[43m]\u001b[49m\u001b[43m \u001b[49m\u001b[38;5;28;43;01mif\u001b[39;49;00m\u001b[43m \u001b[49m\u001b[43mbatch\u001b[49m\u001b[43m[\u001b[49m\u001b[38;5;241;43m2\u001b[39;49m\u001b[43m]\u001b[49m\u001b[43m \u001b[49m\u001b[38;5;28;43;01melse\u001b[39;49;00m\u001b[43m \u001b[49m\u001b[38;5;28;43;01mNone\u001b[39;49;00m\u001b[43m,\u001b[49m\n\u001b[1;32m    751\u001b[0m \u001b[43m            \u001b[49m\u001b[43mids\u001b[49m\u001b[38;5;241;43m=\u001b[39;49m\u001b[43mbatch\u001b[49m\u001b[43m[\u001b[49m\u001b[38;5;241;43m0\u001b[39;49m\u001b[43m]\u001b[49m\u001b[43m,\u001b[49m\n\u001b[1;32m    752\u001b[0m \u001b[43m        \u001b[49m\u001b[43m)\u001b[49m\n\u001b[1;32m    753\u001b[0m \u001b[38;5;28;01melse\u001b[39;00m:\n\u001b[1;32m    754\u001b[0m     chroma_collection\u001b[38;5;241m.\u001b[39madd_texts(texts\u001b[38;5;241m=\u001b[39mtexts, metadatas\u001b[38;5;241m=\u001b[39mmetadatas, ids\u001b[38;5;241m=\u001b[39mids)\n",
      "File \u001b[0;32m~/miniconda3/envs/rag/lib/python3.12/site-packages/langchain_community/vectorstores/chroma.py:276\u001b[0m, in \u001b[0;36mChroma.add_texts\u001b[0;34m(self, texts, metadatas, ids, **kwargs)\u001b[0m\n\u001b[1;32m    274\u001b[0m texts \u001b[38;5;241m=\u001b[39m \u001b[38;5;28mlist\u001b[39m(texts)\n\u001b[1;32m    275\u001b[0m \u001b[38;5;28;01mif\u001b[39;00m \u001b[38;5;28mself\u001b[39m\u001b[38;5;241m.\u001b[39m_embedding_function \u001b[38;5;129;01mis\u001b[39;00m \u001b[38;5;129;01mnot\u001b[39;00m \u001b[38;5;28;01mNone\u001b[39;00m:\n\u001b[0;32m--> 276\u001b[0m     embeddings \u001b[38;5;241m=\u001b[39m \u001b[38;5;28;43mself\u001b[39;49m\u001b[38;5;241;43m.\u001b[39;49m\u001b[43m_embedding_function\u001b[49m\u001b[38;5;241;43m.\u001b[39;49m\u001b[43membed_documents\u001b[49m\u001b[43m(\u001b[49m\u001b[43mtexts\u001b[49m\u001b[43m)\u001b[49m\n\u001b[1;32m    277\u001b[0m \u001b[38;5;28;01mif\u001b[39;00m metadatas:\n\u001b[1;32m    278\u001b[0m     \u001b[38;5;66;03m# fill metadatas with empty dicts if somebody\u001b[39;00m\n\u001b[1;32m    279\u001b[0m     \u001b[38;5;66;03m# did not specify metadata for all texts\u001b[39;00m\n\u001b[1;32m    280\u001b[0m     length_diff \u001b[38;5;241m=\u001b[39m \u001b[38;5;28mlen\u001b[39m(texts) \u001b[38;5;241m-\u001b[39m \u001b[38;5;28mlen\u001b[39m(metadatas)\n",
      "File \u001b[0;32m~/miniconda3/envs/rag/lib/python3.12/site-packages/langchain_community/embeddings/ollama.py:211\u001b[0m, in \u001b[0;36mOllamaEmbeddings.embed_documents\u001b[0;34m(self, texts)\u001b[0m\n\u001b[1;32m    202\u001b[0m \u001b[38;5;250m\u001b[39m\u001b[38;5;124;03m\"\"\"Embed documents using an Ollama deployed embedding model.\u001b[39;00m\n\u001b[1;32m    203\u001b[0m \n\u001b[1;32m    204\u001b[0m \u001b[38;5;124;03mArgs:\u001b[39;00m\n\u001b[0;32m   (...)\u001b[0m\n\u001b[1;32m    208\u001b[0m \u001b[38;5;124;03m    List of embeddings, one for each text.\u001b[39;00m\n\u001b[1;32m    209\u001b[0m \u001b[38;5;124;03m\"\"\"\u001b[39;00m\n\u001b[1;32m    210\u001b[0m instruction_pairs \u001b[38;5;241m=\u001b[39m [\u001b[38;5;124mf\u001b[39m\u001b[38;5;124m\"\u001b[39m\u001b[38;5;132;01m{\u001b[39;00m\u001b[38;5;28mself\u001b[39m\u001b[38;5;241m.\u001b[39membed_instruction\u001b[38;5;132;01m}\u001b[39;00m\u001b[38;5;132;01m{\u001b[39;00mtext\u001b[38;5;132;01m}\u001b[39;00m\u001b[38;5;124m\"\u001b[39m \u001b[38;5;28;01mfor\u001b[39;00m text \u001b[38;5;129;01min\u001b[39;00m texts]\n\u001b[0;32m--> 211\u001b[0m embeddings \u001b[38;5;241m=\u001b[39m \u001b[38;5;28;43mself\u001b[39;49m\u001b[38;5;241;43m.\u001b[39;49m\u001b[43m_embed\u001b[49m\u001b[43m(\u001b[49m\u001b[43minstruction_pairs\u001b[49m\u001b[43m)\u001b[49m\n\u001b[1;32m    212\u001b[0m \u001b[38;5;28;01mreturn\u001b[39;00m embeddings\n",
      "File \u001b[0;32m~/miniconda3/envs/rag/lib/python3.12/site-packages/langchain_community/embeddings/ollama.py:199\u001b[0m, in \u001b[0;36mOllamaEmbeddings._embed\u001b[0;34m(self, input)\u001b[0m\n\u001b[1;32m    197\u001b[0m \u001b[38;5;28;01melse\u001b[39;00m:\n\u001b[1;32m    198\u001b[0m     iter_ \u001b[38;5;241m=\u001b[39m \u001b[38;5;28minput\u001b[39m\n\u001b[0;32m--> 199\u001b[0m \u001b[38;5;28;01mreturn\u001b[39;00m [\u001b[38;5;28;43mself\u001b[39;49m\u001b[38;5;241;43m.\u001b[39;49m\u001b[43m_process_emb_response\u001b[49m\u001b[43m(\u001b[49m\u001b[43mprompt\u001b[49m\u001b[43m)\u001b[49m \u001b[38;5;28;01mfor\u001b[39;00m prompt \u001b[38;5;129;01min\u001b[39;00m iter_]\n",
      "File \u001b[0;32m~/miniconda3/envs/rag/lib/python3.12/site-packages/langchain_community/embeddings/ollama.py:173\u001b[0m, in \u001b[0;36mOllamaEmbeddings._process_emb_response\u001b[0;34m(self, input)\u001b[0m\n\u001b[1;32m    170\u001b[0m     \u001b[38;5;28;01mraise\u001b[39;00m \u001b[38;5;167;01mValueError\u001b[39;00m(\u001b[38;5;124mf\u001b[39m\u001b[38;5;124m\"\u001b[39m\u001b[38;5;124mError raised by inference endpoint: \u001b[39m\u001b[38;5;132;01m{\u001b[39;00me\u001b[38;5;132;01m}\u001b[39;00m\u001b[38;5;124m\"\u001b[39m)\n\u001b[1;32m    172\u001b[0m \u001b[38;5;28;01mif\u001b[39;00m res\u001b[38;5;241m.\u001b[39mstatus_code \u001b[38;5;241m!=\u001b[39m \u001b[38;5;241m200\u001b[39m:\n\u001b[0;32m--> 173\u001b[0m     \u001b[38;5;28;01mraise\u001b[39;00m \u001b[38;5;167;01mValueError\u001b[39;00m(\n\u001b[1;32m    174\u001b[0m         \u001b[38;5;124m\"\u001b[39m\u001b[38;5;124mError raised by inference API HTTP code: \u001b[39m\u001b[38;5;132;01m%s\u001b[39;00m\u001b[38;5;124m, \u001b[39m\u001b[38;5;132;01m%s\u001b[39;00m\u001b[38;5;124m\"\u001b[39m\n\u001b[1;32m    175\u001b[0m         \u001b[38;5;241m%\u001b[39m (res\u001b[38;5;241m.\u001b[39mstatus_code, res\u001b[38;5;241m.\u001b[39mtext)\n\u001b[1;32m    176\u001b[0m     )\n\u001b[1;32m    177\u001b[0m \u001b[38;5;28;01mtry\u001b[39;00m:\n\u001b[1;32m    178\u001b[0m     t \u001b[38;5;241m=\u001b[39m res\u001b[38;5;241m.\u001b[39mjson()\n",
      "\u001b[0;31mValueError\u001b[0m: Error raised by inference API HTTP code: 500, {\"error\":\"error loading model /Users/nikmitchell/.ollama/models/blobs/sha256:970aa74c0a90ef7482477cf803618e776e173c007bf957f635f1015bfcfe\"}"
     ]
    }
   ],
   "source": [
    "from langchain_community.document_loaders import DirectoryLoader\n",
    "from langchain.text_splitter import RecursiveCharacterTextSplitter\n",
    "from langchain.schema import Document\n",
    "from langchain_community.embeddings.ollama import OllamaEmbeddings\n",
    "from langchain_community.vectorstores import Chroma\n",
    "import openai\n",
    "import os\n",
    "import shutil\n",
    "\n",
    "# Load environment variables. Assumes that project contains .env file with API keys\n",
    "# Set OpenAI API key\n",
    "openai.api_key = os.environ['OPENAI_API_KEY']\n",
    "\n",
    "CHROMA_PATH = \"chroma\"\n",
    "DATA_PATH = \"data/wizard_of_oz\"\n",
    "\n",
    "\n",
    "\n",
    "\n",
    "def generate_data_store():\n",
    "    documents = load_documents()\n",
    "    chunks = split_text(documents)\n",
    "    save_to_chroma(chunks)\n",
    "\n",
    "\n",
    "def load_documents():\n",
    "    loader = DirectoryLoader(DATA_PATH, glob=\"*.md\")\n",
    "    documents = loader.load()\n",
    "    return documents\n",
    "\n",
    "\n",
    "def split_text(documents: list[Document]):\n",
    "    text_splitter = RecursiveCharacterTextSplitter(\n",
    "        chunk_size=300,\n",
    "        chunk_overlap=100,\n",
    "        length_function=len,\n",
    "        add_start_index=True,\n",
    "    )\n",
    "    chunks = text_splitter.split_documents(documents)\n",
    "    print(f\"Split {len(documents)} documents into {len(chunks)} chunks.\")\n",
    "\n",
    "    document = chunks[10]\n",
    "    print(document.page_content)\n",
    "    print(document.metadata)\n",
    "\n",
    "    return chunks\n",
    "\n",
    "\n",
    "def save_to_chroma(chunks: list[Document]):\n",
    "    # Clear out the database first.\n",
    "    if os.path.exists(CHROMA_PATH):\n",
    "        shutil.rmtree(CHROMA_PATH)\n",
    "\n",
    "    # Create a new DB from the documents.\n",
    "    db = Chroma.from_documents(\n",
    "        chunks, OllamaEmbeddings(model=\"nomic-embed-text\"), persist_directory=CHROMA_PATH\n",
    "    )\n",
    "    db.persist()\n",
    "    print(f\"Saved {len(chunks)} chunks to {CHROMA_PATH}.\")\n",
    "\n",
    "\n",
    "generate_data_store()"
   ]
  },
  {
   "cell_type": "code",
   "execution_count": null,
   "metadata": {},
   "outputs": [
    {
     "name": "stderr",
     "output_type": "stream",
     "text": [
      "/Users/nikmitchell/miniconda3/envs/rag/lib/python3.12/site-packages/langchain_core/vectorstores/base.py:784: UserWarning: Relevance scores must be between 0 and 1, got [(Document(metadata={'source': 'data/wizard_of_oz/wizard_of_oz.md', 'start_index': 37936}, page_content='“It must be inconvenient to be made of flesh,” said the Scarecrow\\nthoughtfully, “for you must sleep, and eat and drink. However, you have\\nbrains, and it is worth a lot of bother to be able to think properly.”'), -248.2220163170763), (Document(metadata={'source': 'data/wizard_of_oz/wizard_of_oz.md', 'start_index': 104484}, page_content='“Why should I do this for you?” asked the Lady.\\n\\n“Because you are wise and powerful, and no one else can help me,”\\nanswered the Scarecrow.'), -249.9570692234033), (Document(metadata={'source': 'data/wizard_of_oz/wizard_of_oz.md', 'start_index': 78361}, page_content='“Nothing that I know of,” answered the Woodman; but the Scarecrow, who\\nhad been trying to think, but could not because his head was stuffed\\nwith straw, said, quickly, “Oh, yes; you can save our friend, the\\nCowardly Lion, who is asleep in the poppy bed.”'), -257.10161416508873)]\n",
      "  warnings.warn(\n"
     ]
    },
    {
     "data": {
      "text/plain": [
       "[(Document(metadata={'source': 'data/wizard_of_oz/wizard_of_oz.md', 'start_index': 37936}, page_content='“It must be inconvenient to be made of flesh,” said the Scarecrow\\nthoughtfully, “for you must sleep, and eat and drink. However, you have\\nbrains, and it is worth a lot of bother to be able to think properly.”'),\n",
       "  -248.2220163170763),\n",
       " (Document(metadata={'source': 'data/wizard_of_oz/wizard_of_oz.md', 'start_index': 104484}, page_content='“Why should I do this for you?” asked the Lady.\\n\\n“Because you are wise and powerful, and no one else can help me,”\\nanswered the Scarecrow.'),\n",
       "  -249.9570692234033),\n",
       " (Document(metadata={'source': 'data/wizard_of_oz/wizard_of_oz.md', 'start_index': 78361}, page_content='“Nothing that I know of,” answered the Woodman; but the Scarecrow, who\\nhad been trying to think, but could not because his head was stuffed\\nwith straw, said, quickly, “Oh, yes; you can save our friend, the\\nCowardly Lion, who is asleep in the poppy bed.”'),\n",
       "  -257.10161416508873)]"
      ]
     },
     "execution_count": 20,
     "metadata": {},
     "output_type": "execute_result"
    }
   ],
   "source": [
    "db = Chroma(persist_directory=CHROMA_PATH, embedding_function=OllamaEmbeddings(model=\"nomic-embed-text\"))\n",
    "db.similarity_search_with_relevance_scores(\"scarecrow needs\", k=3)"
   ]
  },
  {
   "cell_type": "markdown",
   "metadata": {},
   "source": [
    "## Planning investigation\n",
    "\n",
    "I'm kinda curious to try to build something a bit more flexible here, and use that to investigate a few questions\n",
    "- Does it make a difference if you use OpenAIEmbeddings() or OllamaEmbeddings()?\n",
    "- Can I build several different chromadbs with different embeddings for different datasets\n",
    "    - Wizard of Oz\n",
    "    - Alice in Wonderland\n",
    "    - My personal files (CV, batman video essay)\n",
    "        - does it matter if I mash these together into a single database, even though they're about totally different things?\n",
    "- do you get better performance with bigger chunks?\n",
    "- can I extend this to read PDF files?\n",
    "\n",
    "I'm a bit worried about doing this if it's not on the mainline to being able to do AI safety work, but I also think that just being curious and following my nose and making functions to output different things and label files and folders appropriately in python etc is going to be valuable.\n",
    "\n",
    "__One thing that I think will be super useful is just getting set up to interact with ChatGPT via API - maybe come back to that after??__\n",
    "\n",
    "Also going to shove all this in git now, because I want to be able to roll it back at some point if I screw it up, and restarting would be a bit of a pain\n"
   ]
  },
  {
   "cell_type": "code",
   "execution_count": 6,
   "metadata": {},
   "outputs": [],
   "source": [
    "def get_chroma_path(data_description, embeddings_description):\n",
    "    CHROMA_PATH=os.path.join(\"chroma\",data_description, embeddings_description)\n",
    "    return CHROMA_PATH\n",
    "\n",
    "def get_data_path(data_description):\n",
    "    DATA_PATH =os.path.join(\"data\",data_description)\n",
    "    return DATA_PATH\n",
    "\n",
    "def get_embedding_function(embeddings_description):\n",
    "    if embeddings_description == \"openai_embeddings\":\n",
    "        embedding_function = OpenAIEmbeddings()\n",
    "    elif embeddings_description == \"ollama_embeddings\":\n",
    "        embedding_function = OllamaEmbeddings(model=\"nomic-embed-text\")\n",
    "    else:\n",
    "        print(\"please specify either 'openai_embeddings' or 'ollama_embeddings'\")\n",
    "    return embedding_function\n",
    "\n",
    "\n",
    "\n",
    "def generate_data_store(data_description, embeddings_description):\n",
    "\n",
    "    CHROMA_PATH= get_chroma_path(data_description, embeddings_description)\n",
    "    DATA_PATH =  get_data_path(data_description)\n",
    "\n",
    "    print(f\"Data source: {data_description}, Embeddings: {embeddings_description}\")\n",
    "\n",
    "    # print(f\"CHROMA_PATH is {CHROMA_PATH}\")\n",
    "    # print(f\"DATA_PATH is {DATA_PATH}\")\n",
    "    \n",
    "    \n",
    "\n",
    "\n",
    "    documents = load_documents(data_path=DATA_PATH)\n",
    "    chunks = split_text(documents)\n",
    "    save_to_chroma(chunks, get_embedding_function(embeddings_description), chroma_path= CHROMA_PATH)\n",
    "\n",
    "\n",
    "def load_documents(data_path):\n",
    "    loader = DirectoryLoader(data_path, glob=\"*.md\")\n",
    "    documents = loader.load()\n",
    "    return documents\n",
    "\n",
    "\n",
    "def split_text(documents: list[Document]):\n",
    "    text_splitter = RecursiveCharacterTextSplitter(\n",
    "        chunk_size=300,\n",
    "        chunk_overlap=100,\n",
    "        length_function=len,\n",
    "        add_start_index=True,\n",
    "    )\n",
    "    chunks = text_splitter.split_documents(documents)\n",
    "    print(f\"Split {len(documents)} documents into {len(chunks)} chunks.\")\n",
    "    ## print test example\n",
    "    # document = chunks[10]\n",
    "    # print(document.page_content)\n",
    "    # print(document.metadata)\n",
    "\n",
    "    return chunks\n",
    "\n",
    "\n",
    "def save_to_chroma(chunks: list[Document], embedding_function, chroma_path):\n",
    "    # Clear out the database first.\n",
    "    if os.path.exists(chroma_path):\n",
    "        shutil.rmtree(chroma_path)\n",
    "\n",
    "    # Create a new DB from the documents.\n",
    "    db = Chroma.from_documents(\n",
    "        chunks, embedding_function, persist_directory=chroma_path\n",
    "    )\n",
    "    db.persist()\n",
    "    print(f\"Saved {len(chunks)} chunks to {chroma_path}.\")\n",
    "\n",
    "\n",
    "# generate_data_store(data_description       = data_descriptions[0],\n",
    "#                     embeddings_description = embeddings_descriptions[1])"
   ]
  },
  {
   "cell_type": "code",
   "execution_count": null,
   "metadata": {},
   "outputs": [
    {
     "name": "stdout",
     "output_type": "stream",
     "text": [
      "Data source: wizard_of_oz, Embeddings: openai_embeddings\n",
      "Split 1 documents into 1127 chunks.\n",
      "Saved 1127 chunks to chroma/wizard_of_oz/openai_embeddings.\n",
      "Data source: wizard_of_oz, Embeddings: ollama_embeddings\n",
      "Split 1 documents into 1127 chunks.\n",
      "Saved 1127 chunks to chroma/wizard_of_oz/ollama_embeddings.\n",
      "Data source: alice_in_wonderland, Embeddings: openai_embeddings\n",
      "Split 1 documents into 801 chunks.\n",
      "Saved 801 chunks to chroma/alice_in_wonderland/openai_embeddings.\n",
      "Data source: alice_in_wonderland, Embeddings: ollama_embeddings\n",
      "Split 1 documents into 801 chunks.\n",
      "Saved 801 chunks to chroma/alice_in_wonderland/ollama_embeddings.\n"
     ]
    }
   ],
   "source": [
    "import itertools\n",
    "# data_descriptions = [\"wizard_of_oz\",\"alice_in_wonderland\",\"personal\"] ## Commenting out personal for now because it does't use markdown files\n",
    "data_descriptions = [\"wizard_of_oz\",\"alice_in_wonderland\"]\n",
    "embeddings_descriptions = [\"openai_embeddings\",\"ollama_embeddings\"]\n",
    "\n",
    "for data_description, embeddings_description in itertools.product(data_descriptions, embeddings_descriptions):\n",
    "    generate_data_store(data_description, embeddings_description)"
   ]
  },
  {
   "cell_type": "markdown",
   "metadata": {},
   "source": [
    "Yay, that works. This is exciting. I should get the question-asking part running up soon too.\n"
   ]
  },
  {
   "cell_type": "markdown",
   "metadata": {},
   "source": [
    "### Answering questions\n",
    "\n",
    "Initially we just have the code to do the openai embeddings and chat to openAI. Is it possible to use the OpenAI embeddings and generate the response with Llama3? My guess is yes, but also that the quality of the answers will depend primarily on the quality of the embeddings, since the AI model can't answer correctly if the correct information isn't retrieved."
   ]
  },
  {
   "cell_type": "code",
   "execution_count": null,
   "metadata": {},
   "outputs": [],
   "source": [
    "## commented version of query_data.py\n",
    "\n",
    "# import argparse\n",
    "# # from dataclasses import dataclass\n",
    "# from langchain_community.vectorstores import Chroma\n",
    "# from langchain_openai import OpenAIEmbeddings\n",
    "# from langchain_openai import ChatOpenAI\n",
    "# from langchain.prompts import ChatPromptTemplate\n",
    "\n",
    "# CHROMA_PATH = \"chroma\"\n",
    "\n",
    "# PROMPT_TEMPLATE = \"\"\"\n",
    "# Answer the question based only on the following context:\n",
    "\n",
    "# {context}\n",
    "\n",
    "# ---\n",
    "\n",
    "# Answer the question based on the above context: {question}\n",
    "# \"\"\"\n",
    "\n",
    "\n",
    "# def main():\n",
    "#     # Create CLI.\n",
    "#     parser = argparse.ArgumentParser()\n",
    "#     parser.add_argument(\"query_text\", type=str, help=\"The query text.\")\n",
    "#     args = parser.parse_args()\n",
    "#     query_text = args.query_text\n",
    "\n",
    "#     # Prepare the DB.\n",
    "#     embedding_function = OpenAIEmbeddings()\n",
    "#     db = Chroma(persist_directory=CHROMA_PATH, embedding_function=embedding_function)\n",
    "\n",
    "#     # Search the DB.\n",
    "#     results = db.similarity_search_with_relevance_scores(query_text, k=3)\n",
    "#     if len(results) == 0 or results[0][1] < 0.7:\n",
    "#         print(f\"Unable to find matching results.\")\n",
    "#         return\n",
    "\n",
    "#     context_text = \"\\n\\n---\\n\\n\".join([doc.page_content for doc, _score in results])\n",
    "#     prompt_template = ChatPromptTemplate.from_template(PROMPT_TEMPLATE)\n",
    "#     prompt = prompt_template.format(context=context_text, question=query_text)\n",
    "#     print(prompt)\n",
    "\n",
    "#     model = ChatOpenAI()\n",
    "#     response_text = model.predict(prompt)\n",
    "\n",
    "#     sources = [doc.metadata.get(\"source\", None) for doc, _score in results]\n",
    "#     formatted_response = f\"Response: {response_text}\\nSources: {sources}\"\n",
    "#     print(formatted_response)\n",
    "\n",
    "\n",
    "# if __name__ == \"__main__\":\n",
    "#     main()\n"
   ]
  },
  {
   "cell_type": "markdown",
   "metadata": {},
   "source": [
    "##### Getting libraries"
   ]
  },
  {
   "cell_type": "code",
   "execution_count": 7,
   "metadata": {},
   "outputs": [],
   "source": [
    "import argparse\n",
    "# from dataclasses import dataclass\n",
    "from langchain_community.vectorstores import Chroma\n",
    "from langchain_openai import OpenAIEmbeddings\n",
    "from langchain_openai import ChatOpenAI\n",
    "from langchain.prompts import ChatPromptTemplate\n",
    "\n",
    "\n",
    "PROMPT_TEMPLATE = \"\"\"\n",
    "Answer the question based only on the following context:\n",
    "\n",
    "{context}\n",
    "\n",
    "---\n",
    "\n",
    "Answer the question based on the above context: {question}\n",
    "\"\"\"\n",
    "\n"
   ]
  },
  {
   "cell_type": "code",
   "execution_count": null,
   "metadata": {},
   "outputs": [],
   "source": [
    "def get_query_list(data_description):\n",
    "    if data_description==\"wizard_of_oz\":\n",
    "        query_text = \"How does Dorothy get back home?\"\n",
    "    elif data_description==\"alice_in_wonderland\":\n",
    "        query_text = \"How does Alice end up in Wonderland?\"\n",
    "    return query_text\n",
    "\n",
    "def answer_query_from_database(data_description, embeddings_description, query_text):\n",
    "    # don't need a CLI any more\n",
    "    # parser = argparse.ArgumentParser()\n",
    "    # parser.add_argument(\"query_text\", type=str, help=\"The query text.\")\n",
    "    # args = parser.parse_args()\n",
    "    # query_text = args.query_text\n",
    "\n",
    "    # Prepare the DB.\n",
    "    # embedding_function = OpenAIEmbeddings()\n",
    "    chroma_path = get_chroma_path(data_description, embeddings_description)\n",
    "    embedding_function=get_embedding_function(embeddings_description)\n",
    "\n",
    "    db = Chroma(persist_directory=chroma_path, \n",
    "                embedding_function=embedding_function)\n",
    "    \n",
    "    print(f\"loading in the chroma database from {chroma_path},  using the {embedding_function} embedding function\")\n",
    "\n",
    "    # Search the DB.\n",
    "    results = db.similarity_search_with_relevance_scores(query_text, k=3)\n",
    "    if len(results) == 0 or results[0][1] < 0.7:\n",
    "        print(f\"Unable to find matching results.\")\n",
    "        return\n",
    "\n",
    "    context_text = \"\\n\\n---\\n\\n\".join([doc.page_content for doc, _score in results])\n",
    "    prompt_template = ChatPromptTemplate.from_template(PROMPT_TEMPLATE)\n",
    "    prompt = prompt_template.format(context=context_text, question=query_text)\n",
    "    print(prompt)\n",
    "\n",
    "    model = ChatOpenAI()\n",
    "    response_text = model.predict(prompt)\n",
    "\n",
    "    sources = [doc.metadata.get(\"source\", None) for doc, _score in results]\n",
    "    formatted_response = f\"Response: {response_text}\\nSources: {sources}\"\n",
    "    print(formatted_response)\n"
   ]
  },
  {
   "cell_type": "markdown",
   "metadata": {},
   "source": [
    "#### Testing openai embeddings"
   ]
  },
  {
   "cell_type": "code",
   "execution_count": null,
   "metadata": {},
   "outputs": [
    {
     "name": "stdout",
     "output_type": "stream",
     "text": [
      "loading in the chroma database from chroma/wizard_of_oz/openai_embeddings,  using the client=<openai.resources.embeddings.Embeddings object at 0x13c242870> async_client=<openai.resources.embeddings.AsyncEmbeddings object at 0x1485fd340> model='text-embedding-ada-002' dimensions=None deployment='text-embedding-ada-002' openai_api_version='' openai_api_base=None openai_api_type='' openai_proxy='' embedding_ctx_length=8191 openai_api_key=SecretStr('**********') openai_organization=None allowed_special=None disallowed_special=None chunk_size=1000 max_retries=2 request_timeout=None headers=None tiktoken_enabled=True tiktoken_model_name=None show_progress_bar=False model_kwargs={} skip_empty=False default_headers=None default_query=None retry_min_seconds=4 retry_max_seconds=20 http_client=None http_async_client=None check_embedding_ctx_length=True embedding function\n",
      "Human: \n",
      "Answer the question based only on the following context:\n",
      "\n",
      "“How can I get to her castle?” asked Dorothy.\n",
      "\n",
      "---\n",
      "\n",
      "“How can I get there?” asked Dorothy.\n",
      "\n",
      "“You must walk. It is a long journey, through a country that is\n",
      "sometimes pleasant and sometimes dark and terrible. However, I will use\n",
      "all the magic arts I know of to keep you from harm.”\n",
      "\n",
      "---\n",
      "\n",
      "This worried Dorothy a little, but she knew that only the Great Oz\n",
      "could help her get to Kansas again, so she bravely resolved not to turn\n",
      "back.\n",
      "\n",
      "---\n",
      "\n",
      "Answer the question based on the above context: How does Dorothy get back home?\n",
      "\n",
      "Response: Dorothy resolves to walk through a long journey, with the help of the magic arts of the person she is speaking to, in order to get back home to Kansas.\n",
      "Sources: ['data/wizard_of_oz/wizard_of_oz.md', 'data/wizard_of_oz/wizard_of_oz.md', 'data/wizard_of_oz/wizard_of_oz.md']\n"
     ]
    }
   ],
   "source": [
    "answer_query_from_database(data_description=\"wizard_of_oz\", \n",
    "                           embeddings_description=\"openai_embeddings\",\n",
    "                           query_text = get_query_list(\"wizard_of_oz\"))"
   ]
  },
  {
   "cell_type": "code",
   "execution_count": 1,
   "metadata": {},
   "outputs": [
    {
     "ename": "NameError",
     "evalue": "name 'answer_query_from_database' is not defined",
     "output_type": "error",
     "traceback": [
      "\u001b[0;31m---------------------------------------------------------------------------\u001b[0m",
      "\u001b[0;31mNameError\u001b[0m                                 Traceback (most recent call last)",
      "Cell \u001b[0;32mIn[1], line 1\u001b[0m\n\u001b[0;32m----> 1\u001b[0m \u001b[43manswer_query_from_database\u001b[49m(data_description\u001b[38;5;241m=\u001b[39m\u001b[38;5;124m\"\u001b[39m\u001b[38;5;124malice_in_wonderland\u001b[39m\u001b[38;5;124m\"\u001b[39m, \n\u001b[1;32m      2\u001b[0m                            embeddings_description\u001b[38;5;241m=\u001b[39m\u001b[38;5;124m\"\u001b[39m\u001b[38;5;124mopenai_embeddings\u001b[39m\u001b[38;5;124m\"\u001b[39m,\n\u001b[1;32m      3\u001b[0m                            query_text \u001b[38;5;241m=\u001b[39m get_query_list(\u001b[38;5;124m\"\u001b[39m\u001b[38;5;124malice_in_wonderland\u001b[39m\u001b[38;5;124m\"\u001b[39m))\n",
      "\u001b[0;31mNameError\u001b[0m: name 'answer_query_from_database' is not defined"
     ]
    }
   ],
   "source": [
    "answer_query_from_database(data_description=\"alice_in_wonderland\", \n",
    "                           embeddings_description=\"openai_embeddings\",\n",
    "                           query_text = get_query_list(\"alice_in_wonderland\"))"
   ]
  },
  {
   "cell_type": "code",
   "execution_count": 66,
   "metadata": {},
   "outputs": [
    {
     "name": "stdout",
     "output_type": "stream",
     "text": [
      "loading in the chroma database from chroma/wizard_of_oz/ollama_embeddings,  using the base_url='http://localhost:11434' model='nomic-embed-text' embed_instruction='passage: ' query_instruction='query: ' mirostat=None mirostat_eta=None mirostat_tau=None num_ctx=None num_gpu=None num_thread=None repeat_last_n=None repeat_penalty=None temperature=None stop=None tfs_z=None top_k=None top_p=None show_progress=False headers=None model_kwargs=None embedding function\n",
      "Unable to find matching results.\n"
     ]
    },
    {
     "name": "stderr",
     "output_type": "stream",
     "text": [
      "/Users/nikmitchell/miniconda3/envs/rag/lib/python3.12/site-packages/langchain_core/vectorstores/base.py:784: UserWarning: Relevance scores must be between 0 and 1, got [(Document(metadata={'source': 'data/wizard_of_oz/wizard_of_oz.md', 'start_index': 207034}, page_content='Dorothy now took Toto up solemnly in her arms, and having said one last\\ngood-bye she clapped the heels of her shoes together three times,\\nsaying:\\n\\n“Take me home to Aunt Em!”\\n\\nInstantly she was whirling through the air, so swiftly that all she\\ncould see or feel was the wind whistling past her ears.'), -210.30281095872743), (Document(metadata={'source': 'data/wizard_of_oz/wizard_of_oz.md', 'start_index': 72930}, page_content='“We must hurry and get back to the road of yellow brick before dark,”\\nhe said; and the Scarecrow agreed with him. So they kept walking until\\nDorothy could stand no longer. Her eyes closed in spite of herself and\\nshe forgot where she was and fell among the poppies, fast asleep.'), -211.1797890955506), (Document(metadata={'source': 'data/wizard_of_oz/wizard_of_oz.md', 'start_index': 207867}, page_content='Dorothy stood up and found she was in her stocking-feet. For the Silver\\nShoes had fallen off in her flight through the air, and were lost\\nforever in the desert.\\n\\nChapter XXIV\\nHome Again'), -211.1823138603638)]\n",
      "  warnings.warn(\n"
     ]
    }
   ],
   "source": [
    "answer_query_from_database(data_description=\"wizard_of_oz\", \n",
    "                           embeddings_description=\"ollama_embeddings\", \n",
    "                           query_text = get_query_list(\"wizard_of_oz\")\n",
    "                           )"
   ]
  },
  {
   "cell_type": "markdown",
   "metadata": {},
   "source": [
    " <span style=\"color: red; font-weight: bold;\">The ollama embeddings don't seem to be working at all - getting these negative relevance scores, which makes me feel like I haven't done the original embeddings for the database properly (or I'm not embedding the query properly)</span>"
   ]
  },
  {
   "cell_type": "markdown",
   "metadata": {},
   "source": [
    "## Embedding investigation\n",
    "\n",
    "I'm also curious now about the embeddings, and how they work for ollama versus openai. The compare_embeddings.py file has an interesting example comparing the distance of \"apple\" from \"orange\" vs \"apple\" from \"iphone\". I'd kind of like to have a go at building a list of 5 or 6 different words and calculating the distance from each of them to the others w ollama and open ai. \n",
    "\n",
    "I'm thinking maybe a set of faceted graphs, faceted by word1, and going through all of the word2s and doing bar graphs or somethiing, with different colours for openai vs ollama embeddings"
   ]
  },
  {
   "cell_type": "code",
   "execution_count": null,
   "metadata": {},
   "outputs": [],
   "source": [
    "## original code from compare_embeddings.py\n",
    "# from langchain_openai import OpenAIEmbeddings\n",
    "# from langchain.evaluation import load_evaluator\n",
    "# from dotenv import load_dotenv\n",
    "# import openai\n",
    "# import os\n",
    "\n",
    "# # Load environment variables. Assumes that project contains .env file with API keys\n",
    "# load_dotenv()\n",
    "# #---- Set OpenAI API key \n",
    "# # Change environment variable name from \"OPENAI_API_KEY\" to the name given in \n",
    "# # your .env file.\n",
    "# openai.api_key = os.environ['OPENAI_API_KEY']\n",
    "\n",
    "# def main():\n",
    "#     # Get embedding for a word.\n",
    "#     embedding_function = OpenAIEmbeddings()\n",
    "#     vector = embedding_function.embed_query(\"apple\")\n",
    "#     print(f\"Vector for 'apple': {vector}\")\n",
    "#     print(f\"Vector length: {len(vector)}\")\n",
    "\n",
    "#     # Compare vector of two words\n",
    "#     evaluator = load_evaluator(\"pairwise_embedding_distance\")\n",
    "#     words = (\"apple\", \"iphone\")\n",
    "#     x = evaluator.evaluate_string_pairs(prediction=words[0], prediction_b=words[1])\n",
    "#     print(f\"Comparing ({words[0]}, {words[1]}): {x}\")\n",
    "\n",
    "\n",
    "# if __name__ == \"__main__\":\n",
    "#     main()\n"
   ]
  },
  {
   "cell_type": "code",
   "execution_count": 8,
   "metadata": {},
   "outputs": [],
   "source": [
    "from langchain_openai import OpenAIEmbeddings\n",
    "from langchain.evaluation import load_evaluator\n",
    "# from dotenv import load_dotenv\n",
    "import openai\n",
    "import os\n",
    "\n",
    "# Load environment variables. Assumes that project contains .env file with API keys\n",
    "# load_dotenv()\n",
    "#---- Set OpenAI API key \n",
    "# Change environment variable name from \"OPENAI_API_KEY\" to the name given in \n",
    "# your .env file.\n",
    "# openai.api_key = os.environ['OPENAI_API_KEY']\n",
    "\n",
    "def compare_vectors(word1 = \"apple\", word2='iphone', verbose = False):\n",
    "    # Get embedding for a word.\n",
    "    embedding_function = OpenAIEmbeddings()\n",
    "    vector = embedding_function.embed_query(word1)\n",
    "    # print(f\"Vector for '{word1}': {vector}\")\n",
    "    # print(f\"Vector length: {len(vector)}\")\n",
    "\n",
    "    # Compare vector of two words\n",
    "    evaluator = load_evaluator(\"pairwise_embedding_distance\")\n",
    "    words = (word1, word2)\n",
    "    distance = evaluator.evaluate_string_pairs(prediction=words[0], prediction_b=words[1])\n",
    "    if verbose:\n",
    "        print(f\"Comparing ({words[0]}, {words[1]}): {distance}\")\n",
    "    return distance['score']\n",
    "    "
   ]
  },
  {
   "cell_type": "code",
   "execution_count": 42,
   "metadata": {},
   "outputs": [
    {
     "name": "stdout",
     "output_type": "stream",
     "text": [
      "Comparing (tent, tent): {'score': -2.220446049250313e-16}\n"
     ]
    },
    {
     "data": {
      "text/plain": [
       "-2.220446049250313e-16"
      ]
     },
     "execution_count": 42,
     "metadata": {},
     "output_type": "execute_result"
    }
   ],
   "source": [
    "compare_vectors('tent', 'tent', verbose=True)"
   ]
  },
  {
   "cell_type": "code",
   "execution_count": 61,
   "metadata": {},
   "outputs": [],
   "source": [
    "import itertools\n",
    "import pandas as pd\n",
    "\n",
    "# word_list = ['apple', 'orange', 'iphone', 'call', 'amsterdam', 'netherlands', 'orangutan', 'perplexed', 'allegory']\n",
    "\n",
    "\n",
    "def make_distance_comparison_df(list_of_words):\n",
    "    combinations = list(itertools.product(list_of_words, repeat=2)) # make an iterator to combine all words with each other and themselves\n",
    "    words_df = pd.DataFrame(combinations, columns=['word1', 'word2']) #turn it into a dataframe\n",
    "    words_df['embedding_distance']=words_df.apply(lambda row: compare_vectors(row['word1'], row['word2']), axis = 1) #apply the compare_vectors function to each row\n",
    "    return words_df\n"
   ]
  },
  {
   "cell_type": "code",
   "execution_count": 62,
   "metadata": {},
   "outputs": [],
   "source": [
    "word_list1 = ['shiny','sparkly','glittery','good','great']\n",
    "words_df1  = make_distance_comparison_df(word_list1)\n",
    "word_list2 = ['apple', 'orange', 'iphone', 'call', 'amsterdam', 'netherlands', 'orangutan', 'perplexed', 'allegory']\n",
    "words_df2  = make_distance_comparison_df(word_list2)"
   ]
  },
  {
   "cell_type": "code",
   "execution_count": 63,
   "metadata": {},
   "outputs": [],
   "source": [
    "import plotly.express as px\n",
    "\n",
    "def plot_embedding_distances(words_df):\n",
    "\n",
    "    fig = px.bar(\n",
    "        words_df, \n",
    "        x='word2', \n",
    "        y='embedding_distance', \n",
    "        color='word2',\n",
    "        facet_col='word1', \n",
    "        facet_col_wrap=3, # 3 max words per row\n",
    "        facet_row_spacing = 0.1,\n",
    "        title=\"Embedding Distance Between Words\", \n",
    "        labels={'embedding_distance': 'Distance', 'word2': 'Compared Word'},\n",
    "        height=800\n",
    "    )\n",
    "\n",
    "    # Update layout to move x-axis labels to the top row\n",
    "    fig.update_xaxes(matches='x', showticklabels=True)\n",
    "\n",
    "    fig.show()\n",
    "\n"
   ]
  },
  {
   "cell_type": "code",
   "execution_count": 64,
   "metadata": {},
   "outputs": [
    {
     "data": {
      "application/vnd.plotly.v1+json": {
       "config": {
        "plotlyServerURL": "https://plot.ly"
       },
       "data": [
        {
         "alignmentgroup": "True",
         "hovertemplate": "Compared Word=%{x}<br>word1=shiny<br>Distance=%{y}<extra></extra>",
         "legendgroup": "shiny",
         "marker": {
          "color": "#636efa",
          "pattern": {
           "shape": ""
          }
         },
         "name": "shiny",
         "offsetgroup": "shiny",
         "orientation": "v",
         "showlegend": true,
         "textposition": "auto",
         "type": "bar",
         "x": [
          "shiny"
         ],
         "xaxis": "x4",
         "y": [
          0
         ],
         "yaxis": "y4"
        },
        {
         "alignmentgroup": "True",
         "hovertemplate": "Compared Word=%{x}<br>word1=sparkly<br>Distance=%{y}<extra></extra>",
         "legendgroup": "shiny",
         "marker": {
          "color": "#636efa",
          "pattern": {
           "shape": ""
          }
         },
         "name": "shiny",
         "offsetgroup": "shiny",
         "orientation": "v",
         "showlegend": false,
         "textposition": "auto",
         "type": "bar",
         "x": [
          "shiny"
         ],
         "xaxis": "x5",
         "y": [
          0.09320698371358249
         ],
         "yaxis": "y5"
        },
        {
         "alignmentgroup": "True",
         "hovertemplate": "Compared Word=%{x}<br>word1=glittery<br>Distance=%{y}<extra></extra>",
         "legendgroup": "shiny",
         "marker": {
          "color": "#636efa",
          "pattern": {
           "shape": ""
          }
         },
         "name": "shiny",
         "offsetgroup": "shiny",
         "orientation": "v",
         "showlegend": false,
         "textposition": "auto",
         "type": "bar",
         "x": [
          "shiny"
         ],
         "xaxis": "x6",
         "y": [
          0.1143248062754042
         ],
         "yaxis": "y6"
        },
        {
         "alignmentgroup": "True",
         "hovertemplate": "Compared Word=%{x}<br>word1=good<br>Distance=%{y}<extra></extra>",
         "legendgroup": "shiny",
         "marker": {
          "color": "#636efa",
          "pattern": {
           "shape": ""
          }
         },
         "name": "shiny",
         "offsetgroup": "shiny",
         "orientation": "v",
         "showlegend": false,
         "textposition": "auto",
         "type": "bar",
         "x": [
          "shiny"
         ],
         "xaxis": "x",
         "y": [
          0.17247147318431366
         ],
         "yaxis": "y"
        },
        {
         "alignmentgroup": "True",
         "hovertemplate": "Compared Word=%{x}<br>word1=great<br>Distance=%{y}<extra></extra>",
         "legendgroup": "shiny",
         "marker": {
          "color": "#636efa",
          "pattern": {
           "shape": ""
          }
         },
         "name": "shiny",
         "offsetgroup": "shiny",
         "orientation": "v",
         "showlegend": false,
         "textposition": "auto",
         "type": "bar",
         "x": [
          "shiny"
         ],
         "xaxis": "x2",
         "y": [
          0.1931929013784982
         ],
         "yaxis": "y2"
        },
        {
         "alignmentgroup": "True",
         "hovertemplate": "Compared Word=%{x}<br>word1=shiny<br>Distance=%{y}<extra></extra>",
         "legendgroup": "sparkly",
         "marker": {
          "color": "#EF553B",
          "pattern": {
           "shape": ""
          }
         },
         "name": "sparkly",
         "offsetgroup": "sparkly",
         "orientation": "v",
         "showlegend": true,
         "textposition": "auto",
         "type": "bar",
         "x": [
          "sparkly"
         ],
         "xaxis": "x4",
         "y": [
          0.09320698371358249
         ],
         "yaxis": "y4"
        },
        {
         "alignmentgroup": "True",
         "hovertemplate": "Compared Word=%{x}<br>word1=sparkly<br>Distance=%{y}<extra></extra>",
         "legendgroup": "sparkly",
         "marker": {
          "color": "#EF553B",
          "pattern": {
           "shape": ""
          }
         },
         "name": "sparkly",
         "offsetgroup": "sparkly",
         "orientation": "v",
         "showlegend": false,
         "textposition": "auto",
         "type": "bar",
         "x": [
          "sparkly"
         ],
         "xaxis": "x5",
         "y": [
          2.220446049250313e-16
         ],
         "yaxis": "y5"
        },
        {
         "alignmentgroup": "True",
         "hovertemplate": "Compared Word=%{x}<br>word1=glittery<br>Distance=%{y}<extra></extra>",
         "legendgroup": "sparkly",
         "marker": {
          "color": "#EF553B",
          "pattern": {
           "shape": ""
          }
         },
         "name": "sparkly",
         "offsetgroup": "sparkly",
         "orientation": "v",
         "showlegend": false,
         "textposition": "auto",
         "type": "bar",
         "x": [
          "sparkly"
         ],
         "xaxis": "x6",
         "y": [
          0.05064796277614525
         ],
         "yaxis": "y6"
        },
        {
         "alignmentgroup": "True",
         "hovertemplate": "Compared Word=%{x}<br>word1=good<br>Distance=%{y}<extra></extra>",
         "legendgroup": "sparkly",
         "marker": {
          "color": "#EF553B",
          "pattern": {
           "shape": ""
          }
         },
         "name": "sparkly",
         "offsetgroup": "sparkly",
         "orientation": "v",
         "showlegend": false,
         "textposition": "auto",
         "type": "bar",
         "x": [
          "sparkly"
         ],
         "xaxis": "x",
         "y": [
          0.1877410183183783
         ],
         "yaxis": "y"
        },
        {
         "alignmentgroup": "True",
         "hovertemplate": "Compared Word=%{x}<br>word1=great<br>Distance=%{y}<extra></extra>",
         "legendgroup": "sparkly",
         "marker": {
          "color": "#EF553B",
          "pattern": {
           "shape": ""
          }
         },
         "name": "sparkly",
         "offsetgroup": "sparkly",
         "orientation": "v",
         "showlegend": false,
         "textposition": "auto",
         "type": "bar",
         "x": [
          "sparkly"
         ],
         "xaxis": "x2",
         "y": [
          0.19663144564177404
         ],
         "yaxis": "y2"
        },
        {
         "alignmentgroup": "True",
         "hovertemplate": "Compared Word=%{x}<br>word1=shiny<br>Distance=%{y}<extra></extra>",
         "legendgroup": "glittery",
         "marker": {
          "color": "#00cc96",
          "pattern": {
           "shape": ""
          }
         },
         "name": "glittery",
         "offsetgroup": "glittery",
         "orientation": "v",
         "showlegend": true,
         "textposition": "auto",
         "type": "bar",
         "x": [
          "glittery"
         ],
         "xaxis": "x4",
         "y": [
          0.1143248062754042
         ],
         "yaxis": "y4"
        },
        {
         "alignmentgroup": "True",
         "hovertemplate": "Compared Word=%{x}<br>word1=sparkly<br>Distance=%{y}<extra></extra>",
         "legendgroup": "glittery",
         "marker": {
          "color": "#00cc96",
          "pattern": {
           "shape": ""
          }
         },
         "name": "glittery",
         "offsetgroup": "glittery",
         "orientation": "v",
         "showlegend": false,
         "textposition": "auto",
         "type": "bar",
         "x": [
          "glittery"
         ],
         "xaxis": "x5",
         "y": [
          0.05064796277614525
         ],
         "yaxis": "y5"
        },
        {
         "alignmentgroup": "True",
         "hovertemplate": "Compared Word=%{x}<br>word1=glittery<br>Distance=%{y}<extra></extra>",
         "legendgroup": "glittery",
         "marker": {
          "color": "#00cc96",
          "pattern": {
           "shape": ""
          }
         },
         "name": "glittery",
         "offsetgroup": "glittery",
         "orientation": "v",
         "showlegend": false,
         "textposition": "auto",
         "type": "bar",
         "x": [
          "glittery"
         ],
         "xaxis": "x6",
         "y": [
          -4.440892098500626e-16
         ],
         "yaxis": "y6"
        },
        {
         "alignmentgroup": "True",
         "hovertemplate": "Compared Word=%{x}<br>word1=good<br>Distance=%{y}<extra></extra>",
         "legendgroup": "glittery",
         "marker": {
          "color": "#00cc96",
          "pattern": {
           "shape": ""
          }
         },
         "name": "glittery",
         "offsetgroup": "glittery",
         "orientation": "v",
         "showlegend": false,
         "textposition": "auto",
         "type": "bar",
         "x": [
          "glittery"
         ],
         "xaxis": "x",
         "y": [
          0.19311491011589044
         ],
         "yaxis": "y"
        },
        {
         "alignmentgroup": "True",
         "hovertemplate": "Compared Word=%{x}<br>word1=great<br>Distance=%{y}<extra></extra>",
         "legendgroup": "glittery",
         "marker": {
          "color": "#00cc96",
          "pattern": {
           "shape": ""
          }
         },
         "name": "glittery",
         "offsetgroup": "glittery",
         "orientation": "v",
         "showlegend": false,
         "textposition": "auto",
         "type": "bar",
         "x": [
          "glittery"
         ],
         "xaxis": "x2",
         "y": [
          0.19745022817299895
         ],
         "yaxis": "y2"
        },
        {
         "alignmentgroup": "True",
         "hovertemplate": "Compared Word=%{x}<br>word1=shiny<br>Distance=%{y}<extra></extra>",
         "legendgroup": "good",
         "marker": {
          "color": "#ab63fa",
          "pattern": {
           "shape": ""
          }
         },
         "name": "good",
         "offsetgroup": "good",
         "orientation": "v",
         "showlegend": true,
         "textposition": "auto",
         "type": "bar",
         "x": [
          "good"
         ],
         "xaxis": "x4",
         "y": [
          0.17247147318431366
         ],
         "yaxis": "y4"
        },
        {
         "alignmentgroup": "True",
         "hovertemplate": "Compared Word=%{x}<br>word1=sparkly<br>Distance=%{y}<extra></extra>",
         "legendgroup": "good",
         "marker": {
          "color": "#ab63fa",
          "pattern": {
           "shape": ""
          }
         },
         "name": "good",
         "offsetgroup": "good",
         "orientation": "v",
         "showlegend": false,
         "textposition": "auto",
         "type": "bar",
         "x": [
          "good"
         ],
         "xaxis": "x5",
         "y": [
          0.1877410183183783
         ],
         "yaxis": "y5"
        },
        {
         "alignmentgroup": "True",
         "hovertemplate": "Compared Word=%{x}<br>word1=glittery<br>Distance=%{y}<extra></extra>",
         "legendgroup": "good",
         "marker": {
          "color": "#ab63fa",
          "pattern": {
           "shape": ""
          }
         },
         "name": "good",
         "offsetgroup": "good",
         "orientation": "v",
         "showlegend": false,
         "textposition": "auto",
         "type": "bar",
         "x": [
          "good"
         ],
         "xaxis": "x6",
         "y": [
          0.19311491011589044
         ],
         "yaxis": "y6"
        },
        {
         "alignmentgroup": "True",
         "hovertemplate": "Compared Word=%{x}<br>word1=good<br>Distance=%{y}<extra></extra>",
         "legendgroup": "good",
         "marker": {
          "color": "#ab63fa",
          "pattern": {
           "shape": ""
          }
         },
         "name": "good",
         "offsetgroup": "good",
         "orientation": "v",
         "showlegend": false,
         "textposition": "auto",
         "type": "bar",
         "x": [
          "good"
         ],
         "xaxis": "x",
         "y": [
          1.5543122344752192e-15
         ],
         "yaxis": "y"
        },
        {
         "alignmentgroup": "True",
         "hovertemplate": "Compared Word=%{x}<br>word1=great<br>Distance=%{y}<extra></extra>",
         "legendgroup": "good",
         "marker": {
          "color": "#ab63fa",
          "pattern": {
           "shape": ""
          }
         },
         "name": "good",
         "offsetgroup": "good",
         "orientation": "v",
         "showlegend": false,
         "textposition": "auto",
         "type": "bar",
         "x": [
          "good"
         ],
         "xaxis": "x2",
         "y": [
          0.10524524428440796
         ],
         "yaxis": "y2"
        },
        {
         "alignmentgroup": "True",
         "hovertemplate": "Compared Word=%{x}<br>word1=shiny<br>Distance=%{y}<extra></extra>",
         "legendgroup": "great",
         "marker": {
          "color": "#FFA15A",
          "pattern": {
           "shape": ""
          }
         },
         "name": "great",
         "offsetgroup": "great",
         "orientation": "v",
         "showlegend": true,
         "textposition": "auto",
         "type": "bar",
         "x": [
          "great"
         ],
         "xaxis": "x4",
         "y": [
          0.1931929013784982
         ],
         "yaxis": "y4"
        },
        {
         "alignmentgroup": "True",
         "hovertemplate": "Compared Word=%{x}<br>word1=sparkly<br>Distance=%{y}<extra></extra>",
         "legendgroup": "great",
         "marker": {
          "color": "#FFA15A",
          "pattern": {
           "shape": ""
          }
         },
         "name": "great",
         "offsetgroup": "great",
         "orientation": "v",
         "showlegend": false,
         "textposition": "auto",
         "type": "bar",
         "x": [
          "great"
         ],
         "xaxis": "x5",
         "y": [
          0.19663144564177404
         ],
         "yaxis": "y5"
        },
        {
         "alignmentgroup": "True",
         "hovertemplate": "Compared Word=%{x}<br>word1=glittery<br>Distance=%{y}<extra></extra>",
         "legendgroup": "great",
         "marker": {
          "color": "#FFA15A",
          "pattern": {
           "shape": ""
          }
         },
         "name": "great",
         "offsetgroup": "great",
         "orientation": "v",
         "showlegend": false,
         "textposition": "auto",
         "type": "bar",
         "x": [
          "great"
         ],
         "xaxis": "x6",
         "y": [
          0.19745022817299895
         ],
         "yaxis": "y6"
        },
        {
         "alignmentgroup": "True",
         "hovertemplate": "Compared Word=%{x}<br>word1=good<br>Distance=%{y}<extra></extra>",
         "legendgroup": "great",
         "marker": {
          "color": "#FFA15A",
          "pattern": {
           "shape": ""
          }
         },
         "name": "great",
         "offsetgroup": "great",
         "orientation": "v",
         "showlegend": false,
         "textposition": "auto",
         "type": "bar",
         "x": [
          "great"
         ],
         "xaxis": "x",
         "y": [
          0.10524524428440796
         ],
         "yaxis": "y"
        },
        {
         "alignmentgroup": "True",
         "hovertemplate": "Compared Word=%{x}<br>word1=great<br>Distance=%{y}<extra></extra>",
         "legendgroup": "great",
         "marker": {
          "color": "#FFA15A",
          "pattern": {
           "shape": ""
          }
         },
         "name": "great",
         "offsetgroup": "great",
         "orientation": "v",
         "showlegend": false,
         "textposition": "auto",
         "type": "bar",
         "x": [
          "great"
         ],
         "xaxis": "x2",
         "y": [
          2.220446049250313e-16
         ],
         "yaxis": "y2"
        }
       ],
       "layout": {
        "annotations": [
         {
          "font": {},
          "showarrow": false,
          "text": "word1=good",
          "x": 0.15999999999999998,
          "xanchor": "center",
          "xref": "paper",
          "y": 0.45,
          "yanchor": "bottom",
          "yref": "paper"
         },
         {
          "font": {},
          "showarrow": false,
          "text": "word1=great",
          "x": 0.49999999999999994,
          "xanchor": "center",
          "xref": "paper",
          "y": 0.45,
          "yanchor": "bottom",
          "yref": "paper"
         },
         {
          "font": {},
          "showarrow": false,
          "text": "word1=shiny",
          "x": 0.15999999999999998,
          "xanchor": "center",
          "xref": "paper",
          "y": 1,
          "yanchor": "bottom",
          "yref": "paper"
         },
         {
          "font": {},
          "showarrow": false,
          "text": "word1=sparkly",
          "x": 0.49999999999999994,
          "xanchor": "center",
          "xref": "paper",
          "y": 1,
          "yanchor": "bottom",
          "yref": "paper"
         },
         {
          "font": {},
          "showarrow": false,
          "text": "word1=glittery",
          "x": 0.8399999999999999,
          "xanchor": "center",
          "xref": "paper",
          "y": 1,
          "yanchor": "bottom",
          "yref": "paper"
         }
        ],
        "barmode": "relative",
        "height": 800,
        "legend": {
         "title": {
          "text": "Compared Word"
         },
         "tracegroupgap": 0
        },
        "template": {
         "data": {
          "bar": [
           {
            "error_x": {
             "color": "#2a3f5f"
            },
            "error_y": {
             "color": "#2a3f5f"
            },
            "marker": {
             "line": {
              "color": "#E5ECF6",
              "width": 0.5
             },
             "pattern": {
              "fillmode": "overlay",
              "size": 10,
              "solidity": 0.2
             }
            },
            "type": "bar"
           }
          ],
          "barpolar": [
           {
            "marker": {
             "line": {
              "color": "#E5ECF6",
              "width": 0.5
             },
             "pattern": {
              "fillmode": "overlay",
              "size": 10,
              "solidity": 0.2
             }
            },
            "type": "barpolar"
           }
          ],
          "carpet": [
           {
            "aaxis": {
             "endlinecolor": "#2a3f5f",
             "gridcolor": "white",
             "linecolor": "white",
             "minorgridcolor": "white",
             "startlinecolor": "#2a3f5f"
            },
            "baxis": {
             "endlinecolor": "#2a3f5f",
             "gridcolor": "white",
             "linecolor": "white",
             "minorgridcolor": "white",
             "startlinecolor": "#2a3f5f"
            },
            "type": "carpet"
           }
          ],
          "choropleth": [
           {
            "colorbar": {
             "outlinewidth": 0,
             "ticks": ""
            },
            "type": "choropleth"
           }
          ],
          "contour": [
           {
            "colorbar": {
             "outlinewidth": 0,
             "ticks": ""
            },
            "colorscale": [
             [
              0,
              "#0d0887"
             ],
             [
              0.1111111111111111,
              "#46039f"
             ],
             [
              0.2222222222222222,
              "#7201a8"
             ],
             [
              0.3333333333333333,
              "#9c179e"
             ],
             [
              0.4444444444444444,
              "#bd3786"
             ],
             [
              0.5555555555555556,
              "#d8576b"
             ],
             [
              0.6666666666666666,
              "#ed7953"
             ],
             [
              0.7777777777777778,
              "#fb9f3a"
             ],
             [
              0.8888888888888888,
              "#fdca26"
             ],
             [
              1,
              "#f0f921"
             ]
            ],
            "type": "contour"
           }
          ],
          "contourcarpet": [
           {
            "colorbar": {
             "outlinewidth": 0,
             "ticks": ""
            },
            "type": "contourcarpet"
           }
          ],
          "heatmap": [
           {
            "colorbar": {
             "outlinewidth": 0,
             "ticks": ""
            },
            "colorscale": [
             [
              0,
              "#0d0887"
             ],
             [
              0.1111111111111111,
              "#46039f"
             ],
             [
              0.2222222222222222,
              "#7201a8"
             ],
             [
              0.3333333333333333,
              "#9c179e"
             ],
             [
              0.4444444444444444,
              "#bd3786"
             ],
             [
              0.5555555555555556,
              "#d8576b"
             ],
             [
              0.6666666666666666,
              "#ed7953"
             ],
             [
              0.7777777777777778,
              "#fb9f3a"
             ],
             [
              0.8888888888888888,
              "#fdca26"
             ],
             [
              1,
              "#f0f921"
             ]
            ],
            "type": "heatmap"
           }
          ],
          "heatmapgl": [
           {
            "colorbar": {
             "outlinewidth": 0,
             "ticks": ""
            },
            "colorscale": [
             [
              0,
              "#0d0887"
             ],
             [
              0.1111111111111111,
              "#46039f"
             ],
             [
              0.2222222222222222,
              "#7201a8"
             ],
             [
              0.3333333333333333,
              "#9c179e"
             ],
             [
              0.4444444444444444,
              "#bd3786"
             ],
             [
              0.5555555555555556,
              "#d8576b"
             ],
             [
              0.6666666666666666,
              "#ed7953"
             ],
             [
              0.7777777777777778,
              "#fb9f3a"
             ],
             [
              0.8888888888888888,
              "#fdca26"
             ],
             [
              1,
              "#f0f921"
             ]
            ],
            "type": "heatmapgl"
           }
          ],
          "histogram": [
           {
            "marker": {
             "pattern": {
              "fillmode": "overlay",
              "size": 10,
              "solidity": 0.2
             }
            },
            "type": "histogram"
           }
          ],
          "histogram2d": [
           {
            "colorbar": {
             "outlinewidth": 0,
             "ticks": ""
            },
            "colorscale": [
             [
              0,
              "#0d0887"
             ],
             [
              0.1111111111111111,
              "#46039f"
             ],
             [
              0.2222222222222222,
              "#7201a8"
             ],
             [
              0.3333333333333333,
              "#9c179e"
             ],
             [
              0.4444444444444444,
              "#bd3786"
             ],
             [
              0.5555555555555556,
              "#d8576b"
             ],
             [
              0.6666666666666666,
              "#ed7953"
             ],
             [
              0.7777777777777778,
              "#fb9f3a"
             ],
             [
              0.8888888888888888,
              "#fdca26"
             ],
             [
              1,
              "#f0f921"
             ]
            ],
            "type": "histogram2d"
           }
          ],
          "histogram2dcontour": [
           {
            "colorbar": {
             "outlinewidth": 0,
             "ticks": ""
            },
            "colorscale": [
             [
              0,
              "#0d0887"
             ],
             [
              0.1111111111111111,
              "#46039f"
             ],
             [
              0.2222222222222222,
              "#7201a8"
             ],
             [
              0.3333333333333333,
              "#9c179e"
             ],
             [
              0.4444444444444444,
              "#bd3786"
             ],
             [
              0.5555555555555556,
              "#d8576b"
             ],
             [
              0.6666666666666666,
              "#ed7953"
             ],
             [
              0.7777777777777778,
              "#fb9f3a"
             ],
             [
              0.8888888888888888,
              "#fdca26"
             ],
             [
              1,
              "#f0f921"
             ]
            ],
            "type": "histogram2dcontour"
           }
          ],
          "mesh3d": [
           {
            "colorbar": {
             "outlinewidth": 0,
             "ticks": ""
            },
            "type": "mesh3d"
           }
          ],
          "parcoords": [
           {
            "line": {
             "colorbar": {
              "outlinewidth": 0,
              "ticks": ""
             }
            },
            "type": "parcoords"
           }
          ],
          "pie": [
           {
            "automargin": true,
            "type": "pie"
           }
          ],
          "scatter": [
           {
            "fillpattern": {
             "fillmode": "overlay",
             "size": 10,
             "solidity": 0.2
            },
            "type": "scatter"
           }
          ],
          "scatter3d": [
           {
            "line": {
             "colorbar": {
              "outlinewidth": 0,
              "ticks": ""
             }
            },
            "marker": {
             "colorbar": {
              "outlinewidth": 0,
              "ticks": ""
             }
            },
            "type": "scatter3d"
           }
          ],
          "scattercarpet": [
           {
            "marker": {
             "colorbar": {
              "outlinewidth": 0,
              "ticks": ""
             }
            },
            "type": "scattercarpet"
           }
          ],
          "scattergeo": [
           {
            "marker": {
             "colorbar": {
              "outlinewidth": 0,
              "ticks": ""
             }
            },
            "type": "scattergeo"
           }
          ],
          "scattergl": [
           {
            "marker": {
             "colorbar": {
              "outlinewidth": 0,
              "ticks": ""
             }
            },
            "type": "scattergl"
           }
          ],
          "scattermapbox": [
           {
            "marker": {
             "colorbar": {
              "outlinewidth": 0,
              "ticks": ""
             }
            },
            "type": "scattermapbox"
           }
          ],
          "scatterpolar": [
           {
            "marker": {
             "colorbar": {
              "outlinewidth": 0,
              "ticks": ""
             }
            },
            "type": "scatterpolar"
           }
          ],
          "scatterpolargl": [
           {
            "marker": {
             "colorbar": {
              "outlinewidth": 0,
              "ticks": ""
             }
            },
            "type": "scatterpolargl"
           }
          ],
          "scatterternary": [
           {
            "marker": {
             "colorbar": {
              "outlinewidth": 0,
              "ticks": ""
             }
            },
            "type": "scatterternary"
           }
          ],
          "surface": [
           {
            "colorbar": {
             "outlinewidth": 0,
             "ticks": ""
            },
            "colorscale": [
             [
              0,
              "#0d0887"
             ],
             [
              0.1111111111111111,
              "#46039f"
             ],
             [
              0.2222222222222222,
              "#7201a8"
             ],
             [
              0.3333333333333333,
              "#9c179e"
             ],
             [
              0.4444444444444444,
              "#bd3786"
             ],
             [
              0.5555555555555556,
              "#d8576b"
             ],
             [
              0.6666666666666666,
              "#ed7953"
             ],
             [
              0.7777777777777778,
              "#fb9f3a"
             ],
             [
              0.8888888888888888,
              "#fdca26"
             ],
             [
              1,
              "#f0f921"
             ]
            ],
            "type": "surface"
           }
          ],
          "table": [
           {
            "cells": {
             "fill": {
              "color": "#EBF0F8"
             },
             "line": {
              "color": "white"
             }
            },
            "header": {
             "fill": {
              "color": "#C8D4E3"
             },
             "line": {
              "color": "white"
             }
            },
            "type": "table"
           }
          ]
         },
         "layout": {
          "annotationdefaults": {
           "arrowcolor": "#2a3f5f",
           "arrowhead": 0,
           "arrowwidth": 1
          },
          "autotypenumbers": "strict",
          "coloraxis": {
           "colorbar": {
            "outlinewidth": 0,
            "ticks": ""
           }
          },
          "colorscale": {
           "diverging": [
            [
             0,
             "#8e0152"
            ],
            [
             0.1,
             "#c51b7d"
            ],
            [
             0.2,
             "#de77ae"
            ],
            [
             0.3,
             "#f1b6da"
            ],
            [
             0.4,
             "#fde0ef"
            ],
            [
             0.5,
             "#f7f7f7"
            ],
            [
             0.6,
             "#e6f5d0"
            ],
            [
             0.7,
             "#b8e186"
            ],
            [
             0.8,
             "#7fbc41"
            ],
            [
             0.9,
             "#4d9221"
            ],
            [
             1,
             "#276419"
            ]
           ],
           "sequential": [
            [
             0,
             "#0d0887"
            ],
            [
             0.1111111111111111,
             "#46039f"
            ],
            [
             0.2222222222222222,
             "#7201a8"
            ],
            [
             0.3333333333333333,
             "#9c179e"
            ],
            [
             0.4444444444444444,
             "#bd3786"
            ],
            [
             0.5555555555555556,
             "#d8576b"
            ],
            [
             0.6666666666666666,
             "#ed7953"
            ],
            [
             0.7777777777777778,
             "#fb9f3a"
            ],
            [
             0.8888888888888888,
             "#fdca26"
            ],
            [
             1,
             "#f0f921"
            ]
           ],
           "sequentialminus": [
            [
             0,
             "#0d0887"
            ],
            [
             0.1111111111111111,
             "#46039f"
            ],
            [
             0.2222222222222222,
             "#7201a8"
            ],
            [
             0.3333333333333333,
             "#9c179e"
            ],
            [
             0.4444444444444444,
             "#bd3786"
            ],
            [
             0.5555555555555556,
             "#d8576b"
            ],
            [
             0.6666666666666666,
             "#ed7953"
            ],
            [
             0.7777777777777778,
             "#fb9f3a"
            ],
            [
             0.8888888888888888,
             "#fdca26"
            ],
            [
             1,
             "#f0f921"
            ]
           ]
          },
          "colorway": [
           "#636efa",
           "#EF553B",
           "#00cc96",
           "#ab63fa",
           "#FFA15A",
           "#19d3f3",
           "#FF6692",
           "#B6E880",
           "#FF97FF",
           "#FECB52"
          ],
          "font": {
           "color": "#2a3f5f"
          },
          "geo": {
           "bgcolor": "white",
           "lakecolor": "white",
           "landcolor": "#E5ECF6",
           "showlakes": true,
           "showland": true,
           "subunitcolor": "white"
          },
          "hoverlabel": {
           "align": "left"
          },
          "hovermode": "closest",
          "mapbox": {
           "style": "light"
          },
          "paper_bgcolor": "white",
          "plot_bgcolor": "#E5ECF6",
          "polar": {
           "angularaxis": {
            "gridcolor": "white",
            "linecolor": "white",
            "ticks": ""
           },
           "bgcolor": "#E5ECF6",
           "radialaxis": {
            "gridcolor": "white",
            "linecolor": "white",
            "ticks": ""
           }
          },
          "scene": {
           "xaxis": {
            "backgroundcolor": "#E5ECF6",
            "gridcolor": "white",
            "gridwidth": 2,
            "linecolor": "white",
            "showbackground": true,
            "ticks": "",
            "zerolinecolor": "white"
           },
           "yaxis": {
            "backgroundcolor": "#E5ECF6",
            "gridcolor": "white",
            "gridwidth": 2,
            "linecolor": "white",
            "showbackground": true,
            "ticks": "",
            "zerolinecolor": "white"
           },
           "zaxis": {
            "backgroundcolor": "#E5ECF6",
            "gridcolor": "white",
            "gridwidth": 2,
            "linecolor": "white",
            "showbackground": true,
            "ticks": "",
            "zerolinecolor": "white"
           }
          },
          "shapedefaults": {
           "line": {
            "color": "#2a3f5f"
           }
          },
          "ternary": {
           "aaxis": {
            "gridcolor": "white",
            "linecolor": "white",
            "ticks": ""
           },
           "baxis": {
            "gridcolor": "white",
            "linecolor": "white",
            "ticks": ""
           },
           "bgcolor": "#E5ECF6",
           "caxis": {
            "gridcolor": "white",
            "linecolor": "white",
            "ticks": ""
           }
          },
          "title": {
           "x": 0.05
          },
          "xaxis": {
           "automargin": true,
           "gridcolor": "white",
           "linecolor": "white",
           "ticks": "",
           "title": {
            "standoff": 15
           },
           "zerolinecolor": "white",
           "zerolinewidth": 2
          },
          "yaxis": {
           "automargin": true,
           "gridcolor": "white",
           "linecolor": "white",
           "ticks": "",
           "title": {
            "standoff": 15
           },
           "zerolinecolor": "white",
           "zerolinewidth": 2
          }
         }
        },
        "title": {
         "text": "Embedding Distance Between Words"
        },
        "xaxis": {
         "anchor": "y",
         "categoryarray": [
          "shiny",
          "sparkly",
          "glittery",
          "good",
          "great"
         ],
         "categoryorder": "array",
         "domain": [
          0,
          0.31999999999999995
         ],
         "matches": "x",
         "showticklabels": true,
         "title": {
          "text": "Compared Word"
         }
        },
        "xaxis2": {
         "anchor": "y2",
         "categoryarray": [
          "shiny",
          "sparkly",
          "glittery",
          "good",
          "great"
         ],
         "categoryorder": "array",
         "domain": [
          0.33999999999999997,
          0.6599999999999999
         ],
         "matches": "x",
         "showticklabels": true,
         "title": {
          "text": "Compared Word"
         }
        },
        "xaxis3": {
         "anchor": "y3",
         "categoryarray": [
          "shiny",
          "sparkly",
          "glittery",
          "good",
          "great"
         ],
         "categoryorder": "array",
         "domain": [
          0.6799999999999999,
          0.9999999999999999
         ],
         "matches": "x",
         "showticklabels": true,
         "title": {
          "text": "Compared Word"
         }
        },
        "xaxis4": {
         "anchor": "y4",
         "domain": [
          0,
          0.31999999999999995
         ],
         "matches": "x",
         "showticklabels": true
        },
        "xaxis5": {
         "anchor": "y5",
         "domain": [
          0.33999999999999997,
          0.6599999999999999
         ],
         "matches": "x",
         "showticklabels": true
        },
        "xaxis6": {
         "anchor": "y6",
         "domain": [
          0.6799999999999999,
          0.9999999999999999
         ],
         "matches": "x",
         "showticklabels": true
        },
        "yaxis": {
         "anchor": "x",
         "domain": [
          0,
          0.45
         ],
         "title": {
          "text": "Distance"
         }
        },
        "yaxis2": {
         "anchor": "x2",
         "domain": [
          0,
          0.45
         ],
         "matches": "y",
         "showticklabels": false
        },
        "yaxis3": {
         "anchor": "x3",
         "domain": [
          0,
          0.45
         ],
         "matches": "y",
         "showticklabels": false
        },
        "yaxis4": {
         "anchor": "x4",
         "domain": [
          0.55,
          1
         ],
         "matches": "y",
         "title": {
          "text": "Distance"
         }
        },
        "yaxis5": {
         "anchor": "x5",
         "domain": [
          0.55,
          1
         ],
         "matches": "y",
         "showticklabels": false
        },
        "yaxis6": {
         "anchor": "x6",
         "domain": [
          0.55,
          1
         ],
         "matches": "y",
         "showticklabels": false
        }
       }
      }
     },
     "metadata": {},
     "output_type": "display_data"
    }
   ],
   "source": [
    "plot_embedding_distances(words_df1)"
   ]
  },
  {
   "cell_type": "code",
   "execution_count": 65,
   "metadata": {},
   "outputs": [
    {
     "data": {
      "application/vnd.plotly.v1+json": {
       "config": {
        "plotlyServerURL": "https://plot.ly"
       },
       "data": [
        {
         "alignmentgroup": "True",
         "hovertemplate": "Compared Word=%{x}<br>word1=apple<br>Distance=%{y}<extra></extra>",
         "legendgroup": "apple",
         "marker": {
          "color": "#636efa",
          "pattern": {
           "shape": ""
          }
         },
         "name": "apple",
         "offsetgroup": "apple",
         "orientation": "v",
         "showlegend": true,
         "textposition": "auto",
         "type": "bar",
         "x": [
          "apple"
         ],
         "xaxis": "x7",
         "y": [
          -2.220446049250313e-16
         ],
         "yaxis": "y7"
        },
        {
         "alignmentgroup": "True",
         "hovertemplate": "Compared Word=%{x}<br>word1=orange<br>Distance=%{y}<extra></extra>",
         "legendgroup": "apple",
         "marker": {
          "color": "#636efa",
          "pattern": {
           "shape": ""
          }
         },
         "name": "apple",
         "offsetgroup": "apple",
         "orientation": "v",
         "showlegend": false,
         "textposition": "auto",
         "type": "bar",
         "x": [
          "apple"
         ],
         "xaxis": "x8",
         "y": [
          0.13546988317435982
         ],
         "yaxis": "y8"
        },
        {
         "alignmentgroup": "True",
         "hovertemplate": "Compared Word=%{x}<br>word1=iphone<br>Distance=%{y}<extra></extra>",
         "legendgroup": "apple",
         "marker": {
          "color": "#636efa",
          "pattern": {
           "shape": ""
          }
         },
         "name": "apple",
         "offsetgroup": "apple",
         "orientation": "v",
         "showlegend": false,
         "textposition": "auto",
         "type": "bar",
         "x": [
          "apple"
         ],
         "xaxis": "x9",
         "y": [
          0.09710853291781452
         ],
         "yaxis": "y9"
        },
        {
         "alignmentgroup": "True",
         "hovertemplate": "Compared Word=%{x}<br>word1=call<br>Distance=%{y}<extra></extra>",
         "legendgroup": "apple",
         "marker": {
          "color": "#636efa",
          "pattern": {
           "shape": ""
          }
         },
         "name": "apple",
         "offsetgroup": "apple",
         "orientation": "v",
         "showlegend": false,
         "textposition": "auto",
         "type": "bar",
         "x": [
          "apple"
         ],
         "xaxis": "x4",
         "y": [
          0.189817519576703
         ],
         "yaxis": "y4"
        },
        {
         "alignmentgroup": "True",
         "hovertemplate": "Compared Word=%{x}<br>word1=amsterdam<br>Distance=%{y}<extra></extra>",
         "legendgroup": "apple",
         "marker": {
          "color": "#636efa",
          "pattern": {
           "shape": ""
          }
         },
         "name": "apple",
         "offsetgroup": "apple",
         "orientation": "v",
         "showlegend": false,
         "textposition": "auto",
         "type": "bar",
         "x": [
          "apple"
         ],
         "xaxis": "x5",
         "y": [
          0.18983477756642475
         ],
         "yaxis": "y5"
        },
        {
         "alignmentgroup": "True",
         "hovertemplate": "Compared Word=%{x}<br>word1=netherlands<br>Distance=%{y}<extra></extra>",
         "legendgroup": "apple",
         "marker": {
          "color": "#636efa",
          "pattern": {
           "shape": ""
          }
         },
         "name": "apple",
         "offsetgroup": "apple",
         "orientation": "v",
         "showlegend": false,
         "textposition": "auto",
         "type": "bar",
         "x": [
          "apple"
         ],
         "xaxis": "x6",
         "y": [
          0.20601746224687312
         ],
         "yaxis": "y6"
        },
        {
         "alignmentgroup": "True",
         "hovertemplate": "Compared Word=%{x}<br>word1=orangutan<br>Distance=%{y}<extra></extra>",
         "legendgroup": "apple",
         "marker": {
          "color": "#636efa",
          "pattern": {
           "shape": ""
          }
         },
         "name": "apple",
         "offsetgroup": "apple",
         "orientation": "v",
         "showlegend": false,
         "textposition": "auto",
         "type": "bar",
         "x": [
          "apple"
         ],
         "xaxis": "x",
         "y": [
          0.18505989194578165
         ],
         "yaxis": "y"
        },
        {
         "alignmentgroup": "True",
         "hovertemplate": "Compared Word=%{x}<br>word1=perplexed<br>Distance=%{y}<extra></extra>",
         "legendgroup": "apple",
         "marker": {
          "color": "#636efa",
          "pattern": {
           "shape": ""
          }
         },
         "name": "apple",
         "offsetgroup": "apple",
         "orientation": "v",
         "showlegend": false,
         "textposition": "auto",
         "type": "bar",
         "x": [
          "apple"
         ],
         "xaxis": "x2",
         "y": [
          0.22680747520300115
         ],
         "yaxis": "y2"
        },
        {
         "alignmentgroup": "True",
         "hovertemplate": "Compared Word=%{x}<br>word1=allegory<br>Distance=%{y}<extra></extra>",
         "legendgroup": "apple",
         "marker": {
          "color": "#636efa",
          "pattern": {
           "shape": ""
          }
         },
         "name": "apple",
         "offsetgroup": "apple",
         "orientation": "v",
         "showlegend": false,
         "textposition": "auto",
         "type": "bar",
         "x": [
          "apple"
         ],
         "xaxis": "x3",
         "y": [
          0.21678550210659486
         ],
         "yaxis": "y3"
        },
        {
         "alignmentgroup": "True",
         "hovertemplate": "Compared Word=%{x}<br>word1=apple<br>Distance=%{y}<extra></extra>",
         "legendgroup": "orange",
         "marker": {
          "color": "#EF553B",
          "pattern": {
           "shape": ""
          }
         },
         "name": "orange",
         "offsetgroup": "orange",
         "orientation": "v",
         "showlegend": true,
         "textposition": "auto",
         "type": "bar",
         "x": [
          "orange"
         ],
         "xaxis": "x7",
         "y": [
          0.13546988317435982
         ],
         "yaxis": "y7"
        },
        {
         "alignmentgroup": "True",
         "hovertemplate": "Compared Word=%{x}<br>word1=orange<br>Distance=%{y}<extra></extra>",
         "legendgroup": "orange",
         "marker": {
          "color": "#EF553B",
          "pattern": {
           "shape": ""
          }
         },
         "name": "orange",
         "offsetgroup": "orange",
         "orientation": "v",
         "showlegend": false,
         "textposition": "auto",
         "type": "bar",
         "x": [
          "orange"
         ],
         "xaxis": "x8",
         "y": [
          9.015861995864682e-7
         ],
         "yaxis": "y8"
        },
        {
         "alignmentgroup": "True",
         "hovertemplate": "Compared Word=%{x}<br>word1=iphone<br>Distance=%{y}<extra></extra>",
         "legendgroup": "orange",
         "marker": {
          "color": "#EF553B",
          "pattern": {
           "shape": ""
          }
         },
         "name": "orange",
         "offsetgroup": "orange",
         "orientation": "v",
         "showlegend": false,
         "textposition": "auto",
         "type": "bar",
         "x": [
          "orange"
         ],
         "xaxis": "x9",
         "y": [
          0.16923923616557268
         ],
         "yaxis": "y9"
        },
        {
         "alignmentgroup": "True",
         "hovertemplate": "Compared Word=%{x}<br>word1=call<br>Distance=%{y}<extra></extra>",
         "legendgroup": "orange",
         "marker": {
          "color": "#EF553B",
          "pattern": {
           "shape": ""
          }
         },
         "name": "orange",
         "offsetgroup": "orange",
         "orientation": "v",
         "showlegend": false,
         "textposition": "auto",
         "type": "bar",
         "x": [
          "orange"
         ],
         "xaxis": "x4",
         "y": [
          0.20504048377023798
         ],
         "yaxis": "y4"
        },
        {
         "alignmentgroup": "True",
         "hovertemplate": "Compared Word=%{x}<br>word1=amsterdam<br>Distance=%{y}<extra></extra>",
         "legendgroup": "orange",
         "marker": {
          "color": "#EF553B",
          "pattern": {
           "shape": ""
          }
         },
         "name": "orange",
         "offsetgroup": "orange",
         "orientation": "v",
         "showlegend": false,
         "textposition": "auto",
         "type": "bar",
         "x": [
          "orange"
         ],
         "xaxis": "x5",
         "y": [
          0.21181071904172322
         ],
         "yaxis": "y5"
        },
        {
         "alignmentgroup": "True",
         "hovertemplate": "Compared Word=%{x}<br>word1=netherlands<br>Distance=%{y}<extra></extra>",
         "legendgroup": "orange",
         "marker": {
          "color": "#EF553B",
          "pattern": {
           "shape": ""
          }
         },
         "name": "orange",
         "offsetgroup": "orange",
         "orientation": "v",
         "showlegend": false,
         "textposition": "auto",
         "type": "bar",
         "x": [
          "orange"
         ],
         "xaxis": "x6",
         "y": [
          0.22064276890987455
         ],
         "yaxis": "y6"
        },
        {
         "alignmentgroup": "True",
         "hovertemplate": "Compared Word=%{x}<br>word1=orangutan<br>Distance=%{y}<extra></extra>",
         "legendgroup": "orange",
         "marker": {
          "color": "#EF553B",
          "pattern": {
           "shape": ""
          }
         },
         "name": "orange",
         "offsetgroup": "orange",
         "orientation": "v",
         "showlegend": false,
         "textposition": "auto",
         "type": "bar",
         "x": [
          "orange"
         ],
         "xaxis": "x",
         "y": [
          0.17844006058309314
         ],
         "yaxis": "y"
        },
        {
         "alignmentgroup": "True",
         "hovertemplate": "Compared Word=%{x}<br>word1=perplexed<br>Distance=%{y}<extra></extra>",
         "legendgroup": "orange",
         "marker": {
          "color": "#EF553B",
          "pattern": {
           "shape": ""
          }
         },
         "name": "orange",
         "offsetgroup": "orange",
         "orientation": "v",
         "showlegend": false,
         "textposition": "auto",
         "type": "bar",
         "x": [
          "orange"
         ],
         "xaxis": "x2",
         "y": [
          0.2305112886010675
         ],
         "yaxis": "y2"
        },
        {
         "alignmentgroup": "True",
         "hovertemplate": "Compared Word=%{x}<br>word1=allegory<br>Distance=%{y}<extra></extra>",
         "legendgroup": "orange",
         "marker": {
          "color": "#EF553B",
          "pattern": {
           "shape": ""
          }
         },
         "name": "orange",
         "offsetgroup": "orange",
         "orientation": "v",
         "showlegend": false,
         "textposition": "auto",
         "type": "bar",
         "x": [
          "orange"
         ],
         "xaxis": "x3",
         "y": [
          0.2318086182553255
         ],
         "yaxis": "y3"
        },
        {
         "alignmentgroup": "True",
         "hovertemplate": "Compared Word=%{x}<br>word1=apple<br>Distance=%{y}<extra></extra>",
         "legendgroup": "iphone",
         "marker": {
          "color": "#00cc96",
          "pattern": {
           "shape": ""
          }
         },
         "name": "iphone",
         "offsetgroup": "iphone",
         "orientation": "v",
         "showlegend": true,
         "textposition": "auto",
         "type": "bar",
         "x": [
          "iphone"
         ],
         "xaxis": "x7",
         "y": [
          0.09710853291781452
         ],
         "yaxis": "y7"
        },
        {
         "alignmentgroup": "True",
         "hovertemplate": "Compared Word=%{x}<br>word1=orange<br>Distance=%{y}<extra></extra>",
         "legendgroup": "iphone",
         "marker": {
          "color": "#00cc96",
          "pattern": {
           "shape": ""
          }
         },
         "name": "iphone",
         "offsetgroup": "iphone",
         "orientation": "v",
         "showlegend": false,
         "textposition": "auto",
         "type": "bar",
         "x": [
          "iphone"
         ],
         "xaxis": "x8",
         "y": [
          0.16894816518240863
         ],
         "yaxis": "y8"
        },
        {
         "alignmentgroup": "True",
         "hovertemplate": "Compared Word=%{x}<br>word1=iphone<br>Distance=%{y}<extra></extra>",
         "legendgroup": "iphone",
         "marker": {
          "color": "#00cc96",
          "pattern": {
           "shape": ""
          }
         },
         "name": "iphone",
         "offsetgroup": "iphone",
         "orientation": "v",
         "showlegend": false,
         "textposition": "auto",
         "type": "bar",
         "x": [
          "iphone"
         ],
         "xaxis": "x9",
         "y": [
          7.771561172376096e-16
         ],
         "yaxis": "y9"
        },
        {
         "alignmentgroup": "True",
         "hovertemplate": "Compared Word=%{x}<br>word1=call<br>Distance=%{y}<extra></extra>",
         "legendgroup": "iphone",
         "marker": {
          "color": "#00cc96",
          "pattern": {
           "shape": ""
          }
         },
         "name": "iphone",
         "offsetgroup": "iphone",
         "orientation": "v",
         "showlegend": false,
         "textposition": "auto",
         "type": "bar",
         "x": [
          "iphone"
         ],
         "xaxis": "x4",
         "y": [
          0.1729629327783253
         ],
         "yaxis": "y4"
        },
        {
         "alignmentgroup": "True",
         "hovertemplate": "Compared Word=%{x}<br>word1=amsterdam<br>Distance=%{y}<extra></extra>",
         "legendgroup": "iphone",
         "marker": {
          "color": "#00cc96",
          "pattern": {
           "shape": ""
          }
         },
         "name": "iphone",
         "offsetgroup": "iphone",
         "orientation": "v",
         "showlegend": false,
         "textposition": "auto",
         "type": "bar",
         "x": [
          "iphone"
         ],
         "xaxis": "x5",
         "y": [
          0.21442952780552071
         ],
         "yaxis": "y5"
        },
        {
         "alignmentgroup": "True",
         "hovertemplate": "Compared Word=%{x}<br>word1=netherlands<br>Distance=%{y}<extra></extra>",
         "legendgroup": "iphone",
         "marker": {
          "color": "#00cc96",
          "pattern": {
           "shape": ""
          }
         },
         "name": "iphone",
         "offsetgroup": "iphone",
         "orientation": "v",
         "showlegend": false,
         "textposition": "auto",
         "type": "bar",
         "x": [
          "iphone"
         ],
         "xaxis": "x6",
         "y": [
          0.21832162849718895
         ],
         "yaxis": "y6"
        },
        {
         "alignmentgroup": "True",
         "hovertemplate": "Compared Word=%{x}<br>word1=orangutan<br>Distance=%{y}<extra></extra>",
         "legendgroup": "iphone",
         "marker": {
          "color": "#00cc96",
          "pattern": {
           "shape": ""
          }
         },
         "name": "iphone",
         "offsetgroup": "iphone",
         "orientation": "v",
         "showlegend": false,
         "textposition": "auto",
         "type": "bar",
         "x": [
          "iphone"
         ],
         "xaxis": "x",
         "y": [
          0.20562162994012467
         ],
         "yaxis": "y"
        },
        {
         "alignmentgroup": "True",
         "hovertemplate": "Compared Word=%{x}<br>word1=perplexed<br>Distance=%{y}<extra></extra>",
         "legendgroup": "iphone",
         "marker": {
          "color": "#00cc96",
          "pattern": {
           "shape": ""
          }
         },
         "name": "iphone",
         "offsetgroup": "iphone",
         "orientation": "v",
         "showlegend": false,
         "textposition": "auto",
         "type": "bar",
         "x": [
          "iphone"
         ],
         "xaxis": "x2",
         "y": [
          0.2354019613189997
         ],
         "yaxis": "y2"
        },
        {
         "alignmentgroup": "True",
         "hovertemplate": "Compared Word=%{x}<br>word1=allegory<br>Distance=%{y}<extra></extra>",
         "legendgroup": "iphone",
         "marker": {
          "color": "#00cc96",
          "pattern": {
           "shape": ""
          }
         },
         "name": "iphone",
         "offsetgroup": "iphone",
         "orientation": "v",
         "showlegend": false,
         "textposition": "auto",
         "type": "bar",
         "x": [
          "iphone"
         ],
         "xaxis": "x3",
         "y": [
          0.229672316334663
         ],
         "yaxis": "y3"
        },
        {
         "alignmentgroup": "True",
         "hovertemplate": "Compared Word=%{x}<br>word1=apple<br>Distance=%{y}<extra></extra>",
         "legendgroup": "call",
         "marker": {
          "color": "#ab63fa",
          "pattern": {
           "shape": ""
          }
         },
         "name": "call",
         "offsetgroup": "call",
         "orientation": "v",
         "showlegend": true,
         "textposition": "auto",
         "type": "bar",
         "x": [
          "call"
         ],
         "xaxis": "x7",
         "y": [
          0.19060227862873658
         ],
         "yaxis": "y7"
        },
        {
         "alignmentgroup": "True",
         "hovertemplate": "Compared Word=%{x}<br>word1=orange<br>Distance=%{y}<extra></extra>",
         "legendgroup": "call",
         "marker": {
          "color": "#ab63fa",
          "pattern": {
           "shape": ""
          }
         },
         "name": "call",
         "offsetgroup": "call",
         "orientation": "v",
         "showlegend": false,
         "textposition": "auto",
         "type": "bar",
         "x": [
          "call"
         ],
         "xaxis": "x8",
         "y": [
          0.20504048377023798
         ],
         "yaxis": "y8"
        },
        {
         "alignmentgroup": "True",
         "hovertemplate": "Compared Word=%{x}<br>word1=iphone<br>Distance=%{y}<extra></extra>",
         "legendgroup": "call",
         "marker": {
          "color": "#ab63fa",
          "pattern": {
           "shape": ""
          }
         },
         "name": "call",
         "offsetgroup": "call",
         "orientation": "v",
         "showlegend": false,
         "textposition": "auto",
         "type": "bar",
         "x": [
          "call"
         ],
         "xaxis": "x9",
         "y": [
          0.1729629327783253
         ],
         "yaxis": "y9"
        },
        {
         "alignmentgroup": "True",
         "hovertemplate": "Compared Word=%{x}<br>word1=call<br>Distance=%{y}<extra></extra>",
         "legendgroup": "call",
         "marker": {
          "color": "#ab63fa",
          "pattern": {
           "shape": ""
          }
         },
         "name": "call",
         "offsetgroup": "call",
         "orientation": "v",
         "showlegend": false,
         "textposition": "auto",
         "type": "bar",
         "x": [
          "call"
         ],
         "xaxis": "x4",
         "y": [
          -2.220446049250313e-16
         ],
         "yaxis": "y4"
        },
        {
         "alignmentgroup": "True",
         "hovertemplate": "Compared Word=%{x}<br>word1=amsterdam<br>Distance=%{y}<extra></extra>",
         "legendgroup": "call",
         "marker": {
          "color": "#ab63fa",
          "pattern": {
           "shape": ""
          }
         },
         "name": "call",
         "offsetgroup": "call",
         "orientation": "v",
         "showlegend": false,
         "textposition": "auto",
         "type": "bar",
         "x": [
          "call"
         ],
         "xaxis": "x5",
         "y": [
          0.23711212032826623
         ],
         "yaxis": "y5"
        },
        {
         "alignmentgroup": "True",
         "hovertemplate": "Compared Word=%{x}<br>word1=netherlands<br>Distance=%{y}<extra></extra>",
         "legendgroup": "call",
         "marker": {
          "color": "#ab63fa",
          "pattern": {
           "shape": ""
          }
         },
         "name": "call",
         "offsetgroup": "call",
         "orientation": "v",
         "showlegend": false,
         "textposition": "auto",
         "type": "bar",
         "x": [
          "call"
         ],
         "xaxis": "x6",
         "y": [
          0.24008153205432514
         ],
         "yaxis": "y6"
        },
        {
         "alignmentgroup": "True",
         "hovertemplate": "Compared Word=%{x}<br>word1=orangutan<br>Distance=%{y}<extra></extra>",
         "legendgroup": "call",
         "marker": {
          "color": "#ab63fa",
          "pattern": {
           "shape": ""
          }
         },
         "name": "call",
         "offsetgroup": "call",
         "orientation": "v",
         "showlegend": false,
         "textposition": "auto",
         "type": "bar",
         "x": [
          "call"
         ],
         "xaxis": "x",
         "y": [
          0.23247957367044803
         ],
         "yaxis": "y"
        },
        {
         "alignmentgroup": "True",
         "hovertemplate": "Compared Word=%{x}<br>word1=perplexed<br>Distance=%{y}<extra></extra>",
         "legendgroup": "call",
         "marker": {
          "color": "#ab63fa",
          "pattern": {
           "shape": ""
          }
         },
         "name": "call",
         "offsetgroup": "call",
         "orientation": "v",
         "showlegend": false,
         "textposition": "auto",
         "type": "bar",
         "x": [
          "call"
         ],
         "xaxis": "x2",
         "y": [
          0.2503432052419682
         ],
         "yaxis": "y2"
        },
        {
         "alignmentgroup": "True",
         "hovertemplate": "Compared Word=%{x}<br>word1=allegory<br>Distance=%{y}<extra></extra>",
         "legendgroup": "call",
         "marker": {
          "color": "#ab63fa",
          "pattern": {
           "shape": ""
          }
         },
         "name": "call",
         "offsetgroup": "call",
         "orientation": "v",
         "showlegend": false,
         "textposition": "auto",
         "type": "bar",
         "x": [
          "call"
         ],
         "xaxis": "x3",
         "y": [
          0.2296428654840209
         ],
         "yaxis": "y3"
        },
        {
         "alignmentgroup": "True",
         "hovertemplate": "Compared Word=%{x}<br>word1=apple<br>Distance=%{y}<extra></extra>",
         "legendgroup": "amsterdam",
         "marker": {
          "color": "#FFA15A",
          "pattern": {
           "shape": ""
          }
         },
         "name": "amsterdam",
         "offsetgroup": "amsterdam",
         "orientation": "v",
         "showlegend": true,
         "textposition": "auto",
         "type": "bar",
         "x": [
          "amsterdam"
         ],
         "xaxis": "x7",
         "y": [
          0.18983477756642475
         ],
         "yaxis": "y7"
        },
        {
         "alignmentgroup": "True",
         "hovertemplate": "Compared Word=%{x}<br>word1=orange<br>Distance=%{y}<extra></extra>",
         "legendgroup": "amsterdam",
         "marker": {
          "color": "#FFA15A",
          "pattern": {
           "shape": ""
          }
         },
         "name": "amsterdam",
         "offsetgroup": "amsterdam",
         "orientation": "v",
         "showlegend": false,
         "textposition": "auto",
         "type": "bar",
         "x": [
          "amsterdam"
         ],
         "xaxis": "x8",
         "y": [
          0.21181071904172322
         ],
         "yaxis": "y8"
        },
        {
         "alignmentgroup": "True",
         "hovertemplate": "Compared Word=%{x}<br>word1=iphone<br>Distance=%{y}<extra></extra>",
         "legendgroup": "amsterdam",
         "marker": {
          "color": "#FFA15A",
          "pattern": {
           "shape": ""
          }
         },
         "name": "amsterdam",
         "offsetgroup": "amsterdam",
         "orientation": "v",
         "showlegend": false,
         "textposition": "auto",
         "type": "bar",
         "x": [
          "amsterdam"
         ],
         "xaxis": "x9",
         "y": [
          0.21442952780552071
         ],
         "yaxis": "y9"
        },
        {
         "alignmentgroup": "True",
         "hovertemplate": "Compared Word=%{x}<br>word1=call<br>Distance=%{y}<extra></extra>",
         "legendgroup": "amsterdam",
         "marker": {
          "color": "#FFA15A",
          "pattern": {
           "shape": ""
          }
         },
         "name": "amsterdam",
         "offsetgroup": "amsterdam",
         "orientation": "v",
         "showlegend": false,
         "textposition": "auto",
         "type": "bar",
         "x": [
          "amsterdam"
         ],
         "xaxis": "x4",
         "y": [
          0.23713006597327158
         ],
         "yaxis": "y4"
        },
        {
         "alignmentgroup": "True",
         "hovertemplate": "Compared Word=%{x}<br>word1=amsterdam<br>Distance=%{y}<extra></extra>",
         "legendgroup": "amsterdam",
         "marker": {
          "color": "#FFA15A",
          "pattern": {
           "shape": ""
          }
         },
         "name": "amsterdam",
         "offsetgroup": "amsterdam",
         "orientation": "v",
         "showlegend": false,
         "textposition": "auto",
         "type": "bar",
         "x": [
          "amsterdam"
         ],
         "xaxis": "x5",
         "y": [
          -2.220446049250313e-16
         ],
         "yaxis": "y5"
        },
        {
         "alignmentgroup": "True",
         "hovertemplate": "Compared Word=%{x}<br>word1=netherlands<br>Distance=%{y}<extra></extra>",
         "legendgroup": "amsterdam",
         "marker": {
          "color": "#FFA15A",
          "pattern": {
           "shape": ""
          }
         },
         "name": "amsterdam",
         "offsetgroup": "amsterdam",
         "orientation": "v",
         "showlegend": false,
         "textposition": "auto",
         "type": "bar",
         "x": [
          "amsterdam"
         ],
         "xaxis": "x6",
         "y": [
          0.07221760477421757
         ],
         "yaxis": "y6"
        },
        {
         "alignmentgroup": "True",
         "hovertemplate": "Compared Word=%{x}<br>word1=orangutan<br>Distance=%{y}<extra></extra>",
         "legendgroup": "amsterdam",
         "marker": {
          "color": "#FFA15A",
          "pattern": {
           "shape": ""
          }
         },
         "name": "amsterdam",
         "offsetgroup": "amsterdam",
         "orientation": "v",
         "showlegend": false,
         "textposition": "auto",
         "type": "bar",
         "x": [
          "amsterdam"
         ],
         "xaxis": "x",
         "y": [
          0.20528819668393905
         ],
         "yaxis": "y"
        },
        {
         "alignmentgroup": "True",
         "hovertemplate": "Compared Word=%{x}<br>word1=perplexed<br>Distance=%{y}<extra></extra>",
         "legendgroup": "amsterdam",
         "marker": {
          "color": "#FFA15A",
          "pattern": {
           "shape": ""
          }
         },
         "name": "amsterdam",
         "offsetgroup": "amsterdam",
         "orientation": "v",
         "showlegend": false,
         "textposition": "auto",
         "type": "bar",
         "x": [
          "amsterdam"
         ],
         "xaxis": "x2",
         "y": [
          0.23196547544771962
         ],
         "yaxis": "y2"
        },
        {
         "alignmentgroup": "True",
         "hovertemplate": "Compared Word=%{x}<br>word1=allegory<br>Distance=%{y}<extra></extra>",
         "legendgroup": "amsterdam",
         "marker": {
          "color": "#FFA15A",
          "pattern": {
           "shape": ""
          }
         },
         "name": "amsterdam",
         "offsetgroup": "amsterdam",
         "orientation": "v",
         "showlegend": false,
         "textposition": "auto",
         "type": "bar",
         "x": [
          "amsterdam"
         ],
         "xaxis": "x3",
         "y": [
          0.2253846148160108
         ],
         "yaxis": "y3"
        },
        {
         "alignmentgroup": "True",
         "hovertemplate": "Compared Word=%{x}<br>word1=apple<br>Distance=%{y}<extra></extra>",
         "legendgroup": "netherlands",
         "marker": {
          "color": "#19d3f3",
          "pattern": {
           "shape": ""
          }
         },
         "name": "netherlands",
         "offsetgroup": "netherlands",
         "orientation": "v",
         "showlegend": true,
         "textposition": "auto",
         "type": "bar",
         "x": [
          "netherlands"
         ],
         "xaxis": "x7",
         "y": [
          0.20601746224687312
         ],
         "yaxis": "y7"
        },
        {
         "alignmentgroup": "True",
         "hovertemplate": "Compared Word=%{x}<br>word1=orange<br>Distance=%{y}<extra></extra>",
         "legendgroup": "netherlands",
         "marker": {
          "color": "#19d3f3",
          "pattern": {
           "shape": ""
          }
         },
         "name": "netherlands",
         "offsetgroup": "netherlands",
         "orientation": "v",
         "showlegend": false,
         "textposition": "auto",
         "type": "bar",
         "x": [
          "netherlands"
         ],
         "xaxis": "x8",
         "y": [
          0.22064276890987455
         ],
         "yaxis": "y8"
        },
        {
         "alignmentgroup": "True",
         "hovertemplate": "Compared Word=%{x}<br>word1=iphone<br>Distance=%{y}<extra></extra>",
         "legendgroup": "netherlands",
         "marker": {
          "color": "#19d3f3",
          "pattern": {
           "shape": ""
          }
         },
         "name": "netherlands",
         "offsetgroup": "netherlands",
         "orientation": "v",
         "showlegend": false,
         "textposition": "auto",
         "type": "bar",
         "x": [
          "netherlands"
         ],
         "xaxis": "x9",
         "y": [
          0.21832162849718895
         ],
         "yaxis": "y9"
        },
        {
         "alignmentgroup": "True",
         "hovertemplate": "Compared Word=%{x}<br>word1=call<br>Distance=%{y}<extra></extra>",
         "legendgroup": "netherlands",
         "marker": {
          "color": "#19d3f3",
          "pattern": {
           "shape": ""
          }
         },
         "name": "netherlands",
         "offsetgroup": "netherlands",
         "orientation": "v",
         "showlegend": false,
         "textposition": "auto",
         "type": "bar",
         "x": [
          "netherlands"
         ],
         "xaxis": "x4",
         "y": [
          0.24008153205432514
         ],
         "yaxis": "y4"
        },
        {
         "alignmentgroup": "True",
         "hovertemplate": "Compared Word=%{x}<br>word1=amsterdam<br>Distance=%{y}<extra></extra>",
         "legendgroup": "netherlands",
         "marker": {
          "color": "#19d3f3",
          "pattern": {
           "shape": ""
          }
         },
         "name": "netherlands",
         "offsetgroup": "netherlands",
         "orientation": "v",
         "showlegend": false,
         "textposition": "auto",
         "type": "bar",
         "x": [
          "netherlands"
         ],
         "xaxis": "x5",
         "y": [
          0.07221760477421757
         ],
         "yaxis": "y5"
        },
        {
         "alignmentgroup": "True",
         "hovertemplate": "Compared Word=%{x}<br>word1=netherlands<br>Distance=%{y}<extra></extra>",
         "legendgroup": "netherlands",
         "marker": {
          "color": "#19d3f3",
          "pattern": {
           "shape": ""
          }
         },
         "name": "netherlands",
         "offsetgroup": "netherlands",
         "orientation": "v",
         "showlegend": false,
         "textposition": "auto",
         "type": "bar",
         "x": [
          "netherlands"
         ],
         "xaxis": "x6",
         "y": [
          -6.661338147750939e-16
         ],
         "yaxis": "y6"
        },
        {
         "alignmentgroup": "True",
         "hovertemplate": "Compared Word=%{x}<br>word1=orangutan<br>Distance=%{y}<extra></extra>",
         "legendgroup": "netherlands",
         "marker": {
          "color": "#19d3f3",
          "pattern": {
           "shape": ""
          }
         },
         "name": "netherlands",
         "offsetgroup": "netherlands",
         "orientation": "v",
         "showlegend": false,
         "textposition": "auto",
         "type": "bar",
         "x": [
          "netherlands"
         ],
         "xaxis": "x",
         "y": [
          0.20418727784456947
         ],
         "yaxis": "y"
        },
        {
         "alignmentgroup": "True",
         "hovertemplate": "Compared Word=%{x}<br>word1=perplexed<br>Distance=%{y}<extra></extra>",
         "legendgroup": "netherlands",
         "marker": {
          "color": "#19d3f3",
          "pattern": {
           "shape": ""
          }
         },
         "name": "netherlands",
         "offsetgroup": "netherlands",
         "orientation": "v",
         "showlegend": false,
         "textposition": "auto",
         "type": "bar",
         "x": [
          "netherlands"
         ],
         "xaxis": "x2",
         "y": [
          0.2391077519784639
         ],
         "yaxis": "y2"
        },
        {
         "alignmentgroup": "True",
         "hovertemplate": "Compared Word=%{x}<br>word1=allegory<br>Distance=%{y}<extra></extra>",
         "legendgroup": "netherlands",
         "marker": {
          "color": "#19d3f3",
          "pattern": {
           "shape": ""
          }
         },
         "name": "netherlands",
         "offsetgroup": "netherlands",
         "orientation": "v",
         "showlegend": false,
         "textposition": "auto",
         "type": "bar",
         "x": [
          "netherlands"
         ],
         "xaxis": "x3",
         "y": [
          0.2277933006190701
         ],
         "yaxis": "y3"
        },
        {
         "alignmentgroup": "True",
         "hovertemplate": "Compared Word=%{x}<br>word1=apple<br>Distance=%{y}<extra></extra>",
         "legendgroup": "orangutan",
         "marker": {
          "color": "#FF6692",
          "pattern": {
           "shape": ""
          }
         },
         "name": "orangutan",
         "offsetgroup": "orangutan",
         "orientation": "v",
         "showlegend": true,
         "textposition": "auto",
         "type": "bar",
         "x": [
          "orangutan"
         ],
         "xaxis": "x7",
         "y": [
          0.18505989194578165
         ],
         "yaxis": "y7"
        },
        {
         "alignmentgroup": "True",
         "hovertemplate": "Compared Word=%{x}<br>word1=orange<br>Distance=%{y}<extra></extra>",
         "legendgroup": "orangutan",
         "marker": {
          "color": "#FF6692",
          "pattern": {
           "shape": ""
          }
         },
         "name": "orangutan",
         "offsetgroup": "orangutan",
         "orientation": "v",
         "showlegend": false,
         "textposition": "auto",
         "type": "bar",
         "x": [
          "orangutan"
         ],
         "xaxis": "x8",
         "y": [
          0.1782932681116638
         ],
         "yaxis": "y8"
        },
        {
         "alignmentgroup": "True",
         "hovertemplate": "Compared Word=%{x}<br>word1=iphone<br>Distance=%{y}<extra></extra>",
         "legendgroup": "orangutan",
         "marker": {
          "color": "#FF6692",
          "pattern": {
           "shape": ""
          }
         },
         "name": "orangutan",
         "offsetgroup": "orangutan",
         "orientation": "v",
         "showlegend": false,
         "textposition": "auto",
         "type": "bar",
         "x": [
          "orangutan"
         ],
         "xaxis": "x9",
         "y": [
          0.20562162994012467
         ],
         "yaxis": "y9"
        },
        {
         "alignmentgroup": "True",
         "hovertemplate": "Compared Word=%{x}<br>word1=call<br>Distance=%{y}<extra></extra>",
         "legendgroup": "orangutan",
         "marker": {
          "color": "#FF6692",
          "pattern": {
           "shape": ""
          }
         },
         "name": "orangutan",
         "offsetgroup": "orangutan",
         "orientation": "v",
         "showlegend": false,
         "textposition": "auto",
         "type": "bar",
         "x": [
          "orangutan"
         ],
         "xaxis": "x4",
         "y": [
          0.2325737466017328
         ],
         "yaxis": "y4"
        },
        {
         "alignmentgroup": "True",
         "hovertemplate": "Compared Word=%{x}<br>word1=amsterdam<br>Distance=%{y}<extra></extra>",
         "legendgroup": "orangutan",
         "marker": {
          "color": "#FF6692",
          "pattern": {
           "shape": ""
          }
         },
         "name": "orangutan",
         "offsetgroup": "orangutan",
         "orientation": "v",
         "showlegend": false,
         "textposition": "auto",
         "type": "bar",
         "x": [
          "orangutan"
         ],
         "xaxis": "x5",
         "y": [
          0.20528819668393905
         ],
         "yaxis": "y5"
        },
        {
         "alignmentgroup": "True",
         "hovertemplate": "Compared Word=%{x}<br>word1=netherlands<br>Distance=%{y}<extra></extra>",
         "legendgroup": "orangutan",
         "marker": {
          "color": "#FF6692",
          "pattern": {
           "shape": ""
          }
         },
         "name": "orangutan",
         "offsetgroup": "orangutan",
         "orientation": "v",
         "showlegend": false,
         "textposition": "auto",
         "type": "bar",
         "x": [
          "orangutan"
         ],
         "xaxis": "x6",
         "y": [
          0.20432095062094624
         ],
         "yaxis": "y6"
        },
        {
         "alignmentgroup": "True",
         "hovertemplate": "Compared Word=%{x}<br>word1=orangutan<br>Distance=%{y}<extra></extra>",
         "legendgroup": "orangutan",
         "marker": {
          "color": "#FF6692",
          "pattern": {
           "shape": ""
          }
         },
         "name": "orangutan",
         "offsetgroup": "orangutan",
         "orientation": "v",
         "showlegend": false,
         "textposition": "auto",
         "type": "bar",
         "x": [
          "orangutan"
         ],
         "xaxis": "x",
         "y": [
          0.0000014678272902690637
         ],
         "yaxis": "y"
        },
        {
         "alignmentgroup": "True",
         "hovertemplate": "Compared Word=%{x}<br>word1=perplexed<br>Distance=%{y}<extra></extra>",
         "legendgroup": "orangutan",
         "marker": {
          "color": "#FF6692",
          "pattern": {
           "shape": ""
          }
         },
         "name": "orangutan",
         "offsetgroup": "orangutan",
         "orientation": "v",
         "showlegend": false,
         "textposition": "auto",
         "type": "bar",
         "x": [
          "orangutan"
         ],
         "xaxis": "x2",
         "y": [
          0.2257579694234052
         ],
         "yaxis": "y2"
        },
        {
         "alignmentgroup": "True",
         "hovertemplate": "Compared Word=%{x}<br>word1=allegory<br>Distance=%{y}<extra></extra>",
         "legendgroup": "orangutan",
         "marker": {
          "color": "#FF6692",
          "pattern": {
           "shape": ""
          }
         },
         "name": "orangutan",
         "offsetgroup": "orangutan",
         "orientation": "v",
         "showlegend": false,
         "textposition": "auto",
         "type": "bar",
         "x": [
          "orangutan"
         ],
         "xaxis": "x3",
         "y": [
          0.22297219377399657
         ],
         "yaxis": "y3"
        },
        {
         "alignmentgroup": "True",
         "hovertemplate": "Compared Word=%{x}<br>word1=apple<br>Distance=%{y}<extra></extra>",
         "legendgroup": "perplexed",
         "marker": {
          "color": "#B6E880",
          "pattern": {
           "shape": ""
          }
         },
         "name": "perplexed",
         "offsetgroup": "perplexed",
         "orientation": "v",
         "showlegend": true,
         "textposition": "auto",
         "type": "bar",
         "x": [
          "perplexed"
         ],
         "xaxis": "x7",
         "y": [
          0.22741086058808857
         ],
         "yaxis": "y7"
        },
        {
         "alignmentgroup": "True",
         "hovertemplate": "Compared Word=%{x}<br>word1=orange<br>Distance=%{y}<extra></extra>",
         "legendgroup": "perplexed",
         "marker": {
          "color": "#B6E880",
          "pattern": {
           "shape": ""
          }
         },
         "name": "perplexed",
         "offsetgroup": "perplexed",
         "orientation": "v",
         "showlegend": false,
         "textposition": "auto",
         "type": "bar",
         "x": [
          "perplexed"
         ],
         "xaxis": "x8",
         "y": [
          0.2305112886010675
         ],
         "yaxis": "y8"
        },
        {
         "alignmentgroup": "True",
         "hovertemplate": "Compared Word=%{x}<br>word1=iphone<br>Distance=%{y}<extra></extra>",
         "legendgroup": "perplexed",
         "marker": {
          "color": "#B6E880",
          "pattern": {
           "shape": ""
          }
         },
         "name": "perplexed",
         "offsetgroup": "perplexed",
         "orientation": "v",
         "showlegend": false,
         "textposition": "auto",
         "type": "bar",
         "x": [
          "perplexed"
         ],
         "xaxis": "x9",
         "y": [
          0.23527465914226864
         ],
         "yaxis": "y9"
        },
        {
         "alignmentgroup": "True",
         "hovertemplate": "Compared Word=%{x}<br>word1=call<br>Distance=%{y}<extra></extra>",
         "legendgroup": "perplexed",
         "marker": {
          "color": "#B6E880",
          "pattern": {
           "shape": ""
          }
         },
         "name": "perplexed",
         "offsetgroup": "perplexed",
         "orientation": "v",
         "showlegend": false,
         "textposition": "auto",
         "type": "bar",
         "x": [
          "perplexed"
         ],
         "xaxis": "x4",
         "y": [
          0.2503432052419682
         ],
         "yaxis": "y4"
        },
        {
         "alignmentgroup": "True",
         "hovertemplate": "Compared Word=%{x}<br>word1=amsterdam<br>Distance=%{y}<extra></extra>",
         "legendgroup": "perplexed",
         "marker": {
          "color": "#B6E880",
          "pattern": {
           "shape": ""
          }
         },
         "name": "perplexed",
         "offsetgroup": "perplexed",
         "orientation": "v",
         "showlegend": false,
         "textposition": "auto",
         "type": "bar",
         "x": [
          "perplexed"
         ],
         "xaxis": "x5",
         "y": [
          0.23196547544771962
         ],
         "yaxis": "y5"
        },
        {
         "alignmentgroup": "True",
         "hovertemplate": "Compared Word=%{x}<br>word1=netherlands<br>Distance=%{y}<extra></extra>",
         "legendgroup": "perplexed",
         "marker": {
          "color": "#B6E880",
          "pattern": {
           "shape": ""
          }
         },
         "name": "perplexed",
         "offsetgroup": "perplexed",
         "orientation": "v",
         "showlegend": false,
         "textposition": "auto",
         "type": "bar",
         "x": [
          "perplexed"
         ],
         "xaxis": "x6",
         "y": [
          0.23887222429312216
         ],
         "yaxis": "y6"
        },
        {
         "alignmentgroup": "True",
         "hovertemplate": "Compared Word=%{x}<br>word1=orangutan<br>Distance=%{y}<extra></extra>",
         "legendgroup": "perplexed",
         "marker": {
          "color": "#B6E880",
          "pattern": {
           "shape": ""
          }
         },
         "name": "perplexed",
         "offsetgroup": "perplexed",
         "orientation": "v",
         "showlegend": false,
         "textposition": "auto",
         "type": "bar",
         "x": [
          "perplexed"
         ],
         "xaxis": "x",
         "y": [
          0.22599913342330635
         ],
         "yaxis": "y"
        },
        {
         "alignmentgroup": "True",
         "hovertemplate": "Compared Word=%{x}<br>word1=perplexed<br>Distance=%{y}<extra></extra>",
         "legendgroup": "perplexed",
         "marker": {
          "color": "#B6E880",
          "pattern": {
           "shape": ""
          }
         },
         "name": "perplexed",
         "offsetgroup": "perplexed",
         "orientation": "v",
         "showlegend": false,
         "textposition": "auto",
         "type": "bar",
         "x": [
          "perplexed"
         ],
         "xaxis": "x2",
         "y": [
          2.220446049250313e-16
         ],
         "yaxis": "y2"
        },
        {
         "alignmentgroup": "True",
         "hovertemplate": "Compared Word=%{x}<br>word1=allegory<br>Distance=%{y}<extra></extra>",
         "legendgroup": "perplexed",
         "marker": {
          "color": "#B6E880",
          "pattern": {
           "shape": ""
          }
         },
         "name": "perplexed",
         "offsetgroup": "perplexed",
         "orientation": "v",
         "showlegend": false,
         "textposition": "auto",
         "type": "bar",
         "x": [
          "perplexed"
         ],
         "xaxis": "x3",
         "y": [
          0.20819442914049313
         ],
         "yaxis": "y3"
        },
        {
         "alignmentgroup": "True",
         "hovertemplate": "Compared Word=%{x}<br>word1=apple<br>Distance=%{y}<extra></extra>",
         "legendgroup": "allegory",
         "marker": {
          "color": "#FF97FF",
          "pattern": {
           "shape": ""
          }
         },
         "name": "allegory",
         "offsetgroup": "allegory",
         "orientation": "v",
         "showlegend": true,
         "textposition": "auto",
         "type": "bar",
         "x": [
          "allegory"
         ],
         "xaxis": "x7",
         "y": [
          0.21678550210659486
         ],
         "yaxis": "y7"
        },
        {
         "alignmentgroup": "True",
         "hovertemplate": "Compared Word=%{x}<br>word1=orange<br>Distance=%{y}<extra></extra>",
         "legendgroup": "allegory",
         "marker": {
          "color": "#FF97FF",
          "pattern": {
           "shape": ""
          }
         },
         "name": "allegory",
         "offsetgroup": "allegory",
         "orientation": "v",
         "showlegend": false,
         "textposition": "auto",
         "type": "bar",
         "x": [
          "allegory"
         ],
         "xaxis": "x8",
         "y": [
          0.2318086182553255
         ],
         "yaxis": "y8"
        },
        {
         "alignmentgroup": "True",
         "hovertemplate": "Compared Word=%{x}<br>word1=iphone<br>Distance=%{y}<extra></extra>",
         "legendgroup": "allegory",
         "marker": {
          "color": "#FF97FF",
          "pattern": {
           "shape": ""
          }
         },
         "name": "allegory",
         "offsetgroup": "allegory",
         "orientation": "v",
         "showlegend": false,
         "textposition": "auto",
         "type": "bar",
         "x": [
          "allegory"
         ],
         "xaxis": "x9",
         "y": [
          0.229672316334663
         ],
         "yaxis": "y9"
        },
        {
         "alignmentgroup": "True",
         "hovertemplate": "Compared Word=%{x}<br>word1=call<br>Distance=%{y}<extra></extra>",
         "legendgroup": "allegory",
         "marker": {
          "color": "#FF97FF",
          "pattern": {
           "shape": ""
          }
         },
         "name": "allegory",
         "offsetgroup": "allegory",
         "orientation": "v",
         "showlegend": false,
         "textposition": "auto",
         "type": "bar",
         "x": [
          "allegory"
         ],
         "xaxis": "x4",
         "y": [
          0.2296428654840209
         ],
         "yaxis": "y4"
        },
        {
         "alignmentgroup": "True",
         "hovertemplate": "Compared Word=%{x}<br>word1=amsterdam<br>Distance=%{y}<extra></extra>",
         "legendgroup": "allegory",
         "marker": {
          "color": "#FF97FF",
          "pattern": {
           "shape": ""
          }
         },
         "name": "allegory",
         "offsetgroup": "allegory",
         "orientation": "v",
         "showlegend": false,
         "textposition": "auto",
         "type": "bar",
         "x": [
          "allegory"
         ],
         "xaxis": "x5",
         "y": [
          0.2253846148160108
         ],
         "yaxis": "y5"
        },
        {
         "alignmentgroup": "True",
         "hovertemplate": "Compared Word=%{x}<br>word1=netherlands<br>Distance=%{y}<extra></extra>",
         "legendgroup": "allegory",
         "marker": {
          "color": "#FF97FF",
          "pattern": {
           "shape": ""
          }
         },
         "name": "allegory",
         "offsetgroup": "allegory",
         "orientation": "v",
         "showlegend": false,
         "textposition": "auto",
         "type": "bar",
         "x": [
          "allegory"
         ],
         "xaxis": "x6",
         "y": [
          0.2277933006190701
         ],
         "yaxis": "y6"
        },
        {
         "alignmentgroup": "True",
         "hovertemplate": "Compared Word=%{x}<br>word1=orangutan<br>Distance=%{y}<extra></extra>",
         "legendgroup": "allegory",
         "marker": {
          "color": "#FF97FF",
          "pattern": {
           "shape": ""
          }
         },
         "name": "allegory",
         "offsetgroup": "allegory",
         "orientation": "v",
         "showlegend": false,
         "textposition": "auto",
         "type": "bar",
         "x": [
          "allegory"
         ],
         "xaxis": "x",
         "y": [
          0.22297219377399657
         ],
         "yaxis": "y"
        },
        {
         "alignmentgroup": "True",
         "hovertemplate": "Compared Word=%{x}<br>word1=perplexed<br>Distance=%{y}<extra></extra>",
         "legendgroup": "allegory",
         "marker": {
          "color": "#FF97FF",
          "pattern": {
           "shape": ""
          }
         },
         "name": "allegory",
         "offsetgroup": "allegory",
         "orientation": "v",
         "showlegend": false,
         "textposition": "auto",
         "type": "bar",
         "x": [
          "allegory"
         ],
         "xaxis": "x2",
         "y": [
          0.20819442914049313
         ],
         "yaxis": "y2"
        },
        {
         "alignmentgroup": "True",
         "hovertemplate": "Compared Word=%{x}<br>word1=allegory<br>Distance=%{y}<extra></extra>",
         "legendgroup": "allegory",
         "marker": {
          "color": "#FF97FF",
          "pattern": {
           "shape": ""
          }
         },
         "name": "allegory",
         "offsetgroup": "allegory",
         "orientation": "v",
         "showlegend": false,
         "textposition": "auto",
         "type": "bar",
         "x": [
          "allegory"
         ],
         "xaxis": "x3",
         "y": [
          1.1102230246251565e-16
         ],
         "yaxis": "y3"
        }
       ],
       "layout": {
        "annotations": [
         {
          "font": {},
          "showarrow": false,
          "text": "word1=orangutan",
          "x": 0.15999999999999998,
          "xanchor": "center",
          "xref": "paper",
          "y": 0.26666666666666666,
          "yanchor": "bottom",
          "yref": "paper"
         },
         {
          "font": {},
          "showarrow": false,
          "text": "word1=perplexed",
          "x": 0.49999999999999994,
          "xanchor": "center",
          "xref": "paper",
          "y": 0.26666666666666666,
          "yanchor": "bottom",
          "yref": "paper"
         },
         {
          "font": {},
          "showarrow": false,
          "text": "word1=allegory",
          "x": 0.8399999999999999,
          "xanchor": "center",
          "xref": "paper",
          "y": 0.26666666666666666,
          "yanchor": "bottom",
          "yref": "paper"
         },
         {
          "font": {},
          "showarrow": false,
          "text": "word1=call",
          "x": 0.15999999999999998,
          "xanchor": "center",
          "xref": "paper",
          "y": 0.6333333333333333,
          "yanchor": "bottom",
          "yref": "paper"
         },
         {
          "font": {},
          "showarrow": false,
          "text": "word1=amsterdam",
          "x": 0.49999999999999994,
          "xanchor": "center",
          "xref": "paper",
          "y": 0.6333333333333333,
          "yanchor": "bottom",
          "yref": "paper"
         },
         {
          "font": {},
          "showarrow": false,
          "text": "word1=netherlands",
          "x": 0.8399999999999999,
          "xanchor": "center",
          "xref": "paper",
          "y": 0.6333333333333333,
          "yanchor": "bottom",
          "yref": "paper"
         },
         {
          "font": {},
          "showarrow": false,
          "text": "word1=apple",
          "x": 0.15999999999999998,
          "xanchor": "center",
          "xref": "paper",
          "y": 1,
          "yanchor": "bottom",
          "yref": "paper"
         },
         {
          "font": {},
          "showarrow": false,
          "text": "word1=orange",
          "x": 0.49999999999999994,
          "xanchor": "center",
          "xref": "paper",
          "y": 1,
          "yanchor": "bottom",
          "yref": "paper"
         },
         {
          "font": {},
          "showarrow": false,
          "text": "word1=iphone",
          "x": 0.8399999999999999,
          "xanchor": "center",
          "xref": "paper",
          "y": 1,
          "yanchor": "bottom",
          "yref": "paper"
         }
        ],
        "barmode": "relative",
        "height": 800,
        "legend": {
         "title": {
          "text": "Compared Word"
         },
         "tracegroupgap": 0
        },
        "template": {
         "data": {
          "bar": [
           {
            "error_x": {
             "color": "#2a3f5f"
            },
            "error_y": {
             "color": "#2a3f5f"
            },
            "marker": {
             "line": {
              "color": "#E5ECF6",
              "width": 0.5
             },
             "pattern": {
              "fillmode": "overlay",
              "size": 10,
              "solidity": 0.2
             }
            },
            "type": "bar"
           }
          ],
          "barpolar": [
           {
            "marker": {
             "line": {
              "color": "#E5ECF6",
              "width": 0.5
             },
             "pattern": {
              "fillmode": "overlay",
              "size": 10,
              "solidity": 0.2
             }
            },
            "type": "barpolar"
           }
          ],
          "carpet": [
           {
            "aaxis": {
             "endlinecolor": "#2a3f5f",
             "gridcolor": "white",
             "linecolor": "white",
             "minorgridcolor": "white",
             "startlinecolor": "#2a3f5f"
            },
            "baxis": {
             "endlinecolor": "#2a3f5f",
             "gridcolor": "white",
             "linecolor": "white",
             "minorgridcolor": "white",
             "startlinecolor": "#2a3f5f"
            },
            "type": "carpet"
           }
          ],
          "choropleth": [
           {
            "colorbar": {
             "outlinewidth": 0,
             "ticks": ""
            },
            "type": "choropleth"
           }
          ],
          "contour": [
           {
            "colorbar": {
             "outlinewidth": 0,
             "ticks": ""
            },
            "colorscale": [
             [
              0,
              "#0d0887"
             ],
             [
              0.1111111111111111,
              "#46039f"
             ],
             [
              0.2222222222222222,
              "#7201a8"
             ],
             [
              0.3333333333333333,
              "#9c179e"
             ],
             [
              0.4444444444444444,
              "#bd3786"
             ],
             [
              0.5555555555555556,
              "#d8576b"
             ],
             [
              0.6666666666666666,
              "#ed7953"
             ],
             [
              0.7777777777777778,
              "#fb9f3a"
             ],
             [
              0.8888888888888888,
              "#fdca26"
             ],
             [
              1,
              "#f0f921"
             ]
            ],
            "type": "contour"
           }
          ],
          "contourcarpet": [
           {
            "colorbar": {
             "outlinewidth": 0,
             "ticks": ""
            },
            "type": "contourcarpet"
           }
          ],
          "heatmap": [
           {
            "colorbar": {
             "outlinewidth": 0,
             "ticks": ""
            },
            "colorscale": [
             [
              0,
              "#0d0887"
             ],
             [
              0.1111111111111111,
              "#46039f"
             ],
             [
              0.2222222222222222,
              "#7201a8"
             ],
             [
              0.3333333333333333,
              "#9c179e"
             ],
             [
              0.4444444444444444,
              "#bd3786"
             ],
             [
              0.5555555555555556,
              "#d8576b"
             ],
             [
              0.6666666666666666,
              "#ed7953"
             ],
             [
              0.7777777777777778,
              "#fb9f3a"
             ],
             [
              0.8888888888888888,
              "#fdca26"
             ],
             [
              1,
              "#f0f921"
             ]
            ],
            "type": "heatmap"
           }
          ],
          "heatmapgl": [
           {
            "colorbar": {
             "outlinewidth": 0,
             "ticks": ""
            },
            "colorscale": [
             [
              0,
              "#0d0887"
             ],
             [
              0.1111111111111111,
              "#46039f"
             ],
             [
              0.2222222222222222,
              "#7201a8"
             ],
             [
              0.3333333333333333,
              "#9c179e"
             ],
             [
              0.4444444444444444,
              "#bd3786"
             ],
             [
              0.5555555555555556,
              "#d8576b"
             ],
             [
              0.6666666666666666,
              "#ed7953"
             ],
             [
              0.7777777777777778,
              "#fb9f3a"
             ],
             [
              0.8888888888888888,
              "#fdca26"
             ],
             [
              1,
              "#f0f921"
             ]
            ],
            "type": "heatmapgl"
           }
          ],
          "histogram": [
           {
            "marker": {
             "pattern": {
              "fillmode": "overlay",
              "size": 10,
              "solidity": 0.2
             }
            },
            "type": "histogram"
           }
          ],
          "histogram2d": [
           {
            "colorbar": {
             "outlinewidth": 0,
             "ticks": ""
            },
            "colorscale": [
             [
              0,
              "#0d0887"
             ],
             [
              0.1111111111111111,
              "#46039f"
             ],
             [
              0.2222222222222222,
              "#7201a8"
             ],
             [
              0.3333333333333333,
              "#9c179e"
             ],
             [
              0.4444444444444444,
              "#bd3786"
             ],
             [
              0.5555555555555556,
              "#d8576b"
             ],
             [
              0.6666666666666666,
              "#ed7953"
             ],
             [
              0.7777777777777778,
              "#fb9f3a"
             ],
             [
              0.8888888888888888,
              "#fdca26"
             ],
             [
              1,
              "#f0f921"
             ]
            ],
            "type": "histogram2d"
           }
          ],
          "histogram2dcontour": [
           {
            "colorbar": {
             "outlinewidth": 0,
             "ticks": ""
            },
            "colorscale": [
             [
              0,
              "#0d0887"
             ],
             [
              0.1111111111111111,
              "#46039f"
             ],
             [
              0.2222222222222222,
              "#7201a8"
             ],
             [
              0.3333333333333333,
              "#9c179e"
             ],
             [
              0.4444444444444444,
              "#bd3786"
             ],
             [
              0.5555555555555556,
              "#d8576b"
             ],
             [
              0.6666666666666666,
              "#ed7953"
             ],
             [
              0.7777777777777778,
              "#fb9f3a"
             ],
             [
              0.8888888888888888,
              "#fdca26"
             ],
             [
              1,
              "#f0f921"
             ]
            ],
            "type": "histogram2dcontour"
           }
          ],
          "mesh3d": [
           {
            "colorbar": {
             "outlinewidth": 0,
             "ticks": ""
            },
            "type": "mesh3d"
           }
          ],
          "parcoords": [
           {
            "line": {
             "colorbar": {
              "outlinewidth": 0,
              "ticks": ""
             }
            },
            "type": "parcoords"
           }
          ],
          "pie": [
           {
            "automargin": true,
            "type": "pie"
           }
          ],
          "scatter": [
           {
            "fillpattern": {
             "fillmode": "overlay",
             "size": 10,
             "solidity": 0.2
            },
            "type": "scatter"
           }
          ],
          "scatter3d": [
           {
            "line": {
             "colorbar": {
              "outlinewidth": 0,
              "ticks": ""
             }
            },
            "marker": {
             "colorbar": {
              "outlinewidth": 0,
              "ticks": ""
             }
            },
            "type": "scatter3d"
           }
          ],
          "scattercarpet": [
           {
            "marker": {
             "colorbar": {
              "outlinewidth": 0,
              "ticks": ""
             }
            },
            "type": "scattercarpet"
           }
          ],
          "scattergeo": [
           {
            "marker": {
             "colorbar": {
              "outlinewidth": 0,
              "ticks": ""
             }
            },
            "type": "scattergeo"
           }
          ],
          "scattergl": [
           {
            "marker": {
             "colorbar": {
              "outlinewidth": 0,
              "ticks": ""
             }
            },
            "type": "scattergl"
           }
          ],
          "scattermapbox": [
           {
            "marker": {
             "colorbar": {
              "outlinewidth": 0,
              "ticks": ""
             }
            },
            "type": "scattermapbox"
           }
          ],
          "scatterpolar": [
           {
            "marker": {
             "colorbar": {
              "outlinewidth": 0,
              "ticks": ""
             }
            },
            "type": "scatterpolar"
           }
          ],
          "scatterpolargl": [
           {
            "marker": {
             "colorbar": {
              "outlinewidth": 0,
              "ticks": ""
             }
            },
            "type": "scatterpolargl"
           }
          ],
          "scatterternary": [
           {
            "marker": {
             "colorbar": {
              "outlinewidth": 0,
              "ticks": ""
             }
            },
            "type": "scatterternary"
           }
          ],
          "surface": [
           {
            "colorbar": {
             "outlinewidth": 0,
             "ticks": ""
            },
            "colorscale": [
             [
              0,
              "#0d0887"
             ],
             [
              0.1111111111111111,
              "#46039f"
             ],
             [
              0.2222222222222222,
              "#7201a8"
             ],
             [
              0.3333333333333333,
              "#9c179e"
             ],
             [
              0.4444444444444444,
              "#bd3786"
             ],
             [
              0.5555555555555556,
              "#d8576b"
             ],
             [
              0.6666666666666666,
              "#ed7953"
             ],
             [
              0.7777777777777778,
              "#fb9f3a"
             ],
             [
              0.8888888888888888,
              "#fdca26"
             ],
             [
              1,
              "#f0f921"
             ]
            ],
            "type": "surface"
           }
          ],
          "table": [
           {
            "cells": {
             "fill": {
              "color": "#EBF0F8"
             },
             "line": {
              "color": "white"
             }
            },
            "header": {
             "fill": {
              "color": "#C8D4E3"
             },
             "line": {
              "color": "white"
             }
            },
            "type": "table"
           }
          ]
         },
         "layout": {
          "annotationdefaults": {
           "arrowcolor": "#2a3f5f",
           "arrowhead": 0,
           "arrowwidth": 1
          },
          "autotypenumbers": "strict",
          "coloraxis": {
           "colorbar": {
            "outlinewidth": 0,
            "ticks": ""
           }
          },
          "colorscale": {
           "diverging": [
            [
             0,
             "#8e0152"
            ],
            [
             0.1,
             "#c51b7d"
            ],
            [
             0.2,
             "#de77ae"
            ],
            [
             0.3,
             "#f1b6da"
            ],
            [
             0.4,
             "#fde0ef"
            ],
            [
             0.5,
             "#f7f7f7"
            ],
            [
             0.6,
             "#e6f5d0"
            ],
            [
             0.7,
             "#b8e186"
            ],
            [
             0.8,
             "#7fbc41"
            ],
            [
             0.9,
             "#4d9221"
            ],
            [
             1,
             "#276419"
            ]
           ],
           "sequential": [
            [
             0,
             "#0d0887"
            ],
            [
             0.1111111111111111,
             "#46039f"
            ],
            [
             0.2222222222222222,
             "#7201a8"
            ],
            [
             0.3333333333333333,
             "#9c179e"
            ],
            [
             0.4444444444444444,
             "#bd3786"
            ],
            [
             0.5555555555555556,
             "#d8576b"
            ],
            [
             0.6666666666666666,
             "#ed7953"
            ],
            [
             0.7777777777777778,
             "#fb9f3a"
            ],
            [
             0.8888888888888888,
             "#fdca26"
            ],
            [
             1,
             "#f0f921"
            ]
           ],
           "sequentialminus": [
            [
             0,
             "#0d0887"
            ],
            [
             0.1111111111111111,
             "#46039f"
            ],
            [
             0.2222222222222222,
             "#7201a8"
            ],
            [
             0.3333333333333333,
             "#9c179e"
            ],
            [
             0.4444444444444444,
             "#bd3786"
            ],
            [
             0.5555555555555556,
             "#d8576b"
            ],
            [
             0.6666666666666666,
             "#ed7953"
            ],
            [
             0.7777777777777778,
             "#fb9f3a"
            ],
            [
             0.8888888888888888,
             "#fdca26"
            ],
            [
             1,
             "#f0f921"
            ]
           ]
          },
          "colorway": [
           "#636efa",
           "#EF553B",
           "#00cc96",
           "#ab63fa",
           "#FFA15A",
           "#19d3f3",
           "#FF6692",
           "#B6E880",
           "#FF97FF",
           "#FECB52"
          ],
          "font": {
           "color": "#2a3f5f"
          },
          "geo": {
           "bgcolor": "white",
           "lakecolor": "white",
           "landcolor": "#E5ECF6",
           "showlakes": true,
           "showland": true,
           "subunitcolor": "white"
          },
          "hoverlabel": {
           "align": "left"
          },
          "hovermode": "closest",
          "mapbox": {
           "style": "light"
          },
          "paper_bgcolor": "white",
          "plot_bgcolor": "#E5ECF6",
          "polar": {
           "angularaxis": {
            "gridcolor": "white",
            "linecolor": "white",
            "ticks": ""
           },
           "bgcolor": "#E5ECF6",
           "radialaxis": {
            "gridcolor": "white",
            "linecolor": "white",
            "ticks": ""
           }
          },
          "scene": {
           "xaxis": {
            "backgroundcolor": "#E5ECF6",
            "gridcolor": "white",
            "gridwidth": 2,
            "linecolor": "white",
            "showbackground": true,
            "ticks": "",
            "zerolinecolor": "white"
           },
           "yaxis": {
            "backgroundcolor": "#E5ECF6",
            "gridcolor": "white",
            "gridwidth": 2,
            "linecolor": "white",
            "showbackground": true,
            "ticks": "",
            "zerolinecolor": "white"
           },
           "zaxis": {
            "backgroundcolor": "#E5ECF6",
            "gridcolor": "white",
            "gridwidth": 2,
            "linecolor": "white",
            "showbackground": true,
            "ticks": "",
            "zerolinecolor": "white"
           }
          },
          "shapedefaults": {
           "line": {
            "color": "#2a3f5f"
           }
          },
          "ternary": {
           "aaxis": {
            "gridcolor": "white",
            "linecolor": "white",
            "ticks": ""
           },
           "baxis": {
            "gridcolor": "white",
            "linecolor": "white",
            "ticks": ""
           },
           "bgcolor": "#E5ECF6",
           "caxis": {
            "gridcolor": "white",
            "linecolor": "white",
            "ticks": ""
           }
          },
          "title": {
           "x": 0.05
          },
          "xaxis": {
           "automargin": true,
           "gridcolor": "white",
           "linecolor": "white",
           "ticks": "",
           "title": {
            "standoff": 15
           },
           "zerolinecolor": "white",
           "zerolinewidth": 2
          },
          "yaxis": {
           "automargin": true,
           "gridcolor": "white",
           "linecolor": "white",
           "ticks": "",
           "title": {
            "standoff": 15
           },
           "zerolinecolor": "white",
           "zerolinewidth": 2
          }
         }
        },
        "title": {
         "text": "Embedding Distance Between Words"
        },
        "xaxis": {
         "anchor": "y",
         "categoryarray": [
          "apple",
          "orange",
          "iphone",
          "call",
          "amsterdam",
          "netherlands",
          "orangutan",
          "perplexed",
          "allegory"
         ],
         "categoryorder": "array",
         "domain": [
          0,
          0.31999999999999995
         ],
         "matches": "x",
         "showticklabels": true,
         "title": {
          "text": "Compared Word"
         }
        },
        "xaxis2": {
         "anchor": "y2",
         "categoryarray": [
          "apple",
          "orange",
          "iphone",
          "call",
          "amsterdam",
          "netherlands",
          "orangutan",
          "perplexed",
          "allegory"
         ],
         "categoryorder": "array",
         "domain": [
          0.33999999999999997,
          0.6599999999999999
         ],
         "matches": "x",
         "showticklabels": true,
         "title": {
          "text": "Compared Word"
         }
        },
        "xaxis3": {
         "anchor": "y3",
         "categoryarray": [
          "apple",
          "orange",
          "iphone",
          "call",
          "amsterdam",
          "netherlands",
          "orangutan",
          "perplexed",
          "allegory"
         ],
         "categoryorder": "array",
         "domain": [
          0.6799999999999999,
          0.9999999999999999
         ],
         "matches": "x",
         "showticklabels": true,
         "title": {
          "text": "Compared Word"
         }
        },
        "xaxis4": {
         "anchor": "y4",
         "domain": [
          0,
          0.31999999999999995
         ],
         "matches": "x",
         "showticklabels": true
        },
        "xaxis5": {
         "anchor": "y5",
         "domain": [
          0.33999999999999997,
          0.6599999999999999
         ],
         "matches": "x",
         "showticklabels": true
        },
        "xaxis6": {
         "anchor": "y6",
         "domain": [
          0.6799999999999999,
          0.9999999999999999
         ],
         "matches": "x",
         "showticklabels": true
        },
        "xaxis7": {
         "anchor": "y7",
         "domain": [
          0,
          0.31999999999999995
         ],
         "matches": "x",
         "showticklabels": true
        },
        "xaxis8": {
         "anchor": "y8",
         "domain": [
          0.33999999999999997,
          0.6599999999999999
         ],
         "matches": "x",
         "showticklabels": true
        },
        "xaxis9": {
         "anchor": "y9",
         "domain": [
          0.6799999999999999,
          0.9999999999999999
         ],
         "matches": "x",
         "showticklabels": true
        },
        "yaxis": {
         "anchor": "x",
         "domain": [
          0,
          0.26666666666666666
         ],
         "title": {
          "text": "Distance"
         }
        },
        "yaxis2": {
         "anchor": "x2",
         "domain": [
          0,
          0.26666666666666666
         ],
         "matches": "y",
         "showticklabels": false
        },
        "yaxis3": {
         "anchor": "x3",
         "domain": [
          0,
          0.26666666666666666
         ],
         "matches": "y",
         "showticklabels": false
        },
        "yaxis4": {
         "anchor": "x4",
         "domain": [
          0.3666666666666667,
          0.6333333333333333
         ],
         "matches": "y",
         "title": {
          "text": "Distance"
         }
        },
        "yaxis5": {
         "anchor": "x5",
         "domain": [
          0.3666666666666667,
          0.6333333333333333
         ],
         "matches": "y",
         "showticklabels": false
        },
        "yaxis6": {
         "anchor": "x6",
         "domain": [
          0.3666666666666667,
          0.6333333333333333
         ],
         "matches": "y",
         "showticklabels": false
        },
        "yaxis7": {
         "anchor": "x7",
         "domain": [
          0.7333333333333334,
          1
         ],
         "matches": "y",
         "title": {
          "text": "Distance"
         }
        },
        "yaxis8": {
         "anchor": "x8",
         "domain": [
          0.7333333333333334,
          1
         ],
         "matches": "y",
         "showticklabels": false
        },
        "yaxis9": {
         "anchor": "x9",
         "domain": [
          0.7333333333333334,
          1
         ],
         "matches": "y",
         "showticklabels": false
        }
       }
      }
     },
     "metadata": {},
     "output_type": "display_data"
    }
   ],
   "source": [
    "plot_embedding_distances(words_df2)"
   ]
  },
  {
   "cell_type": "markdown",
   "metadata": {},
   "source": [
    "Main things from the above are that the embedding distances have less range than I expected. \"Totally unrelated\" doesn't necessarily have a way higher distance than \"practically synonyms\". Some words that I would expect to be really correlated (e.g. \"orangutan\" and \"orange\") are barely closer than \"orangutan\" and \"allegory\", in spite of orangutans being orange in colour."
   ]
  },
  {
   "cell_type": "markdown",
   "metadata": {},
   "source": [
    "## Interacting with ChatGPT via API\n",
    "\n",
    "Should be further up --- see the question-answering bit for a bit of a model of how to do this, then maybe watch a video. I just think this is likely to be super useful for working on a lot of projects in this area"
   ]
  }
 ],
 "metadata": {
  "kernelspec": {
   "display_name": "base",
   "language": "python",
   "name": "python3"
  },
  "language_info": {
   "codemirror_mode": {
    "name": "ipython",
    "version": 3
   },
   "file_extension": ".py",
   "mimetype": "text/x-python",
   "name": "python",
   "nbconvert_exporter": "python",
   "pygments_lexer": "ipython3",
   "version": "3.12.4"
  }
 },
 "nbformat": 4,
 "nbformat_minor": 2
}
